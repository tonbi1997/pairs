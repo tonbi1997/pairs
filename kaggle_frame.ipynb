{
 "cells": [
  {
   "cell_type": "markdown",
   "metadata": {},
   "source": [
    "# kaggleフォーマット"
   ]
  },
  {
   "cell_type": "code",
   "execution_count": 1,
   "metadata": {},
   "outputs": [],
   "source": [
    "import numpy as np\n",
    "import pandas as pd"
   ]
  },
  {
   "cell_type": "markdown",
   "metadata": {},
   "source": [
    "csvファイル読み込み"
   ]
  },
  {
   "cell_type": "code",
   "execution_count": 2,
   "metadata": {},
   "outputs": [],
   "source": [
    "train=pd.read_csv('../input/titanic/train.csv')\n",
    "test=pd.read_csv('../input/titanic/test.csv')\n",
    "#gender_submission=pd.read_csv(\"../input/titanic/gender_submission.csv\")"
   ]
  },
  {
   "cell_type": "code",
   "execution_count": 3,
   "metadata": {},
   "outputs": [],
   "source": [
    "data=pd.concat([train,test],sort=False)"
   ]
  },
  {
   "cell_type": "code",
   "execution_count": 4,
   "metadata": {},
   "outputs": [
    {
     "data": {
      "text/plain": [
       "PassengerId       0\n",
       "Survived        418\n",
       "Pclass            0\n",
       "Name              0\n",
       "Sex               0\n",
       "Age             263\n",
       "SibSp             0\n",
       "Parch             0\n",
       "Ticket            0\n",
       "Fare              1\n",
       "Cabin          1014\n",
       "Embarked          2\n",
       "dtype: int64"
      ]
     },
     "execution_count": 4,
     "metadata": {},
     "output_type": "execute_result"
    }
   ],
   "source": [
    "data.isnull().sum()\n"
   ]
  },
  {
   "cell_type": "markdown",
   "metadata": {},
   "source": [
    "データの定量化"
   ]
  },
  {
   "cell_type": "code",
   "execution_count": 5,
   "metadata": {},
   "outputs": [],
   "source": [
    "data['Sex'].replace(['male','female'],[0,1],inplace=True)"
   ]
  },
  {
   "cell_type": "code",
   "execution_count": 6,
   "metadata": {},
   "outputs": [],
   "source": [
    "data['Embarked'].fillna('S',inplace=True)\n",
    "data['Embarked']=data['Embarked'].map({'S':0,'C':1,'Q':2}).astype(int)"
   ]
  },
  {
   "cell_type": "code",
   "execution_count": 7,
   "metadata": {},
   "outputs": [],
   "source": [
    "data['Fare'].fillna(np.mean(data['Fare']),inplace=True)"
   ]
  },
  {
   "cell_type": "code",
   "execution_count": 8,
   "metadata": {},
   "outputs": [],
   "source": [
    "age_avg=data['Age'].mean()\n",
    "age_std=data['Age'].std()\n",
    "data['Age'].fillna(np.random.randint(age_avg-1.96*age_std,age_avg+1.96*age_std),inplace=True)"
   ]
  },
  {
   "cell_type": "code",
   "execution_count": 9,
   "metadata": {},
   "outputs": [
    {
     "data": {
      "text/html": [
       "<div>\n",
       "<style scoped>\n",
       "    .dataframe tbody tr th:only-of-type {\n",
       "        vertical-align: middle;\n",
       "    }\n",
       "\n",
       "    .dataframe tbody tr th {\n",
       "        vertical-align: top;\n",
       "    }\n",
       "\n",
       "    .dataframe thead th {\n",
       "        text-align: right;\n",
       "    }\n",
       "</style>\n",
       "<table border=\"1\" class=\"dataframe\">\n",
       "  <thead>\n",
       "    <tr style=\"text-align: right;\">\n",
       "      <th></th>\n",
       "      <th>PassengerId</th>\n",
       "      <th>Survived</th>\n",
       "      <th>Pclass</th>\n",
       "      <th>Name</th>\n",
       "      <th>Sex</th>\n",
       "      <th>Age</th>\n",
       "      <th>SibSp</th>\n",
       "      <th>Ticket</th>\n",
       "      <th>Fare</th>\n",
       "      <th>Cabin</th>\n",
       "      <th>Embarked</th>\n",
       "      <th>Family</th>\n",
       "    </tr>\n",
       "  </thead>\n",
       "  <tbody>\n",
       "    <tr>\n",
       "      <th>0</th>\n",
       "      <td>1</td>\n",
       "      <td>0.0</td>\n",
       "      <td>3</td>\n",
       "      <td>Braund, Mr. Owen Harris</td>\n",
       "      <td>0</td>\n",
       "      <td>22.0</td>\n",
       "      <td>1</td>\n",
       "      <td>A/5 21171</td>\n",
       "      <td>7.2500</td>\n",
       "      <td>NaN</td>\n",
       "      <td>0</td>\n",
       "      <td>2</td>\n",
       "    </tr>\n",
       "    <tr>\n",
       "      <th>1</th>\n",
       "      <td>2</td>\n",
       "      <td>1.0</td>\n",
       "      <td>1</td>\n",
       "      <td>Cumings, Mrs. John Bradley (Florence Briggs Th...</td>\n",
       "      <td>1</td>\n",
       "      <td>38.0</td>\n",
       "      <td>1</td>\n",
       "      <td>PC 17599</td>\n",
       "      <td>71.2833</td>\n",
       "      <td>C85</td>\n",
       "      <td>1</td>\n",
       "      <td>2</td>\n",
       "    </tr>\n",
       "    <tr>\n",
       "      <th>2</th>\n",
       "      <td>3</td>\n",
       "      <td>1.0</td>\n",
       "      <td>3</td>\n",
       "      <td>Heikkinen, Miss. Laina</td>\n",
       "      <td>1</td>\n",
       "      <td>26.0</td>\n",
       "      <td>0</td>\n",
       "      <td>STON/O2. 3101282</td>\n",
       "      <td>7.9250</td>\n",
       "      <td>NaN</td>\n",
       "      <td>0</td>\n",
       "      <td>1</td>\n",
       "    </tr>\n",
       "    <tr>\n",
       "      <th>3</th>\n",
       "      <td>4</td>\n",
       "      <td>1.0</td>\n",
       "      <td>1</td>\n",
       "      <td>Futrelle, Mrs. Jacques Heath (Lily May Peel)</td>\n",
       "      <td>1</td>\n",
       "      <td>35.0</td>\n",
       "      <td>1</td>\n",
       "      <td>113803</td>\n",
       "      <td>53.1000</td>\n",
       "      <td>C123</td>\n",
       "      <td>0</td>\n",
       "      <td>2</td>\n",
       "    </tr>\n",
       "    <tr>\n",
       "      <th>4</th>\n",
       "      <td>5</td>\n",
       "      <td>0.0</td>\n",
       "      <td>3</td>\n",
       "      <td>Allen, Mr. William Henry</td>\n",
       "      <td>0</td>\n",
       "      <td>35.0</td>\n",
       "      <td>0</td>\n",
       "      <td>373450</td>\n",
       "      <td>8.0500</td>\n",
       "      <td>NaN</td>\n",
       "      <td>0</td>\n",
       "      <td>1</td>\n",
       "    </tr>\n",
       "    <tr>\n",
       "      <th>...</th>\n",
       "      <td>...</td>\n",
       "      <td>...</td>\n",
       "      <td>...</td>\n",
       "      <td>...</td>\n",
       "      <td>...</td>\n",
       "      <td>...</td>\n",
       "      <td>...</td>\n",
       "      <td>...</td>\n",
       "      <td>...</td>\n",
       "      <td>...</td>\n",
       "      <td>...</td>\n",
       "      <td>...</td>\n",
       "    </tr>\n",
       "    <tr>\n",
       "      <th>413</th>\n",
       "      <td>1305</td>\n",
       "      <td>NaN</td>\n",
       "      <td>3</td>\n",
       "      <td>Spector, Mr. Woolf</td>\n",
       "      <td>0</td>\n",
       "      <td>8.0</td>\n",
       "      <td>0</td>\n",
       "      <td>A.5. 3236</td>\n",
       "      <td>8.0500</td>\n",
       "      <td>NaN</td>\n",
       "      <td>0</td>\n",
       "      <td>1</td>\n",
       "    </tr>\n",
       "    <tr>\n",
       "      <th>414</th>\n",
       "      <td>1306</td>\n",
       "      <td>NaN</td>\n",
       "      <td>1</td>\n",
       "      <td>Oliva y Ocana, Dona. Fermina</td>\n",
       "      <td>1</td>\n",
       "      <td>39.0</td>\n",
       "      <td>0</td>\n",
       "      <td>PC 17758</td>\n",
       "      <td>108.9000</td>\n",
       "      <td>C105</td>\n",
       "      <td>1</td>\n",
       "      <td>1</td>\n",
       "    </tr>\n",
       "    <tr>\n",
       "      <th>415</th>\n",
       "      <td>1307</td>\n",
       "      <td>NaN</td>\n",
       "      <td>3</td>\n",
       "      <td>Saether, Mr. Simon Sivertsen</td>\n",
       "      <td>0</td>\n",
       "      <td>38.5</td>\n",
       "      <td>0</td>\n",
       "      <td>SOTON/O.Q. 3101262</td>\n",
       "      <td>7.2500</td>\n",
       "      <td>NaN</td>\n",
       "      <td>0</td>\n",
       "      <td>1</td>\n",
       "    </tr>\n",
       "    <tr>\n",
       "      <th>416</th>\n",
       "      <td>1308</td>\n",
       "      <td>NaN</td>\n",
       "      <td>3</td>\n",
       "      <td>Ware, Mr. Frederick</td>\n",
       "      <td>0</td>\n",
       "      <td>8.0</td>\n",
       "      <td>0</td>\n",
       "      <td>359309</td>\n",
       "      <td>8.0500</td>\n",
       "      <td>NaN</td>\n",
       "      <td>0</td>\n",
       "      <td>1</td>\n",
       "    </tr>\n",
       "    <tr>\n",
       "      <th>417</th>\n",
       "      <td>1309</td>\n",
       "      <td>NaN</td>\n",
       "      <td>3</td>\n",
       "      <td>Peter, Master. Michael J</td>\n",
       "      <td>0</td>\n",
       "      <td>8.0</td>\n",
       "      <td>1</td>\n",
       "      <td>2668</td>\n",
       "      <td>22.3583</td>\n",
       "      <td>NaN</td>\n",
       "      <td>1</td>\n",
       "      <td>3</td>\n",
       "    </tr>\n",
       "  </tbody>\n",
       "</table>\n",
       "<p>1309 rows × 12 columns</p>\n",
       "</div>"
      ],
      "text/plain": [
       "     PassengerId  Survived  Pclass  \\\n",
       "0              1       0.0       3   \n",
       "1              2       1.0       1   \n",
       "2              3       1.0       3   \n",
       "3              4       1.0       1   \n",
       "4              5       0.0       3   \n",
       "..           ...       ...     ...   \n",
       "413         1305       NaN       3   \n",
       "414         1306       NaN       1   \n",
       "415         1307       NaN       3   \n",
       "416         1308       NaN       3   \n",
       "417         1309       NaN       3   \n",
       "\n",
       "                                                  Name  Sex   Age  SibSp  \\\n",
       "0                              Braund, Mr. Owen Harris    0  22.0      1   \n",
       "1    Cumings, Mrs. John Bradley (Florence Briggs Th...    1  38.0      1   \n",
       "2                               Heikkinen, Miss. Laina    1  26.0      0   \n",
       "3         Futrelle, Mrs. Jacques Heath (Lily May Peel)    1  35.0      1   \n",
       "4                             Allen, Mr. William Henry    0  35.0      0   \n",
       "..                                                 ...  ...   ...    ...   \n",
       "413                                 Spector, Mr. Woolf    0   8.0      0   \n",
       "414                       Oliva y Ocana, Dona. Fermina    1  39.0      0   \n",
       "415                       Saether, Mr. Simon Sivertsen    0  38.5      0   \n",
       "416                                Ware, Mr. Frederick    0   8.0      0   \n",
       "417                           Peter, Master. Michael J    0   8.0      1   \n",
       "\n",
       "                 Ticket      Fare Cabin  Embarked  Family  \n",
       "0             A/5 21171    7.2500   NaN         0       2  \n",
       "1              PC 17599   71.2833   C85         1       2  \n",
       "2      STON/O2. 3101282    7.9250   NaN         0       1  \n",
       "3                113803   53.1000  C123         0       2  \n",
       "4                373450    8.0500   NaN         0       1  \n",
       "..                  ...       ...   ...       ...     ...  \n",
       "413           A.5. 3236    8.0500   NaN         0       1  \n",
       "414            PC 17758  108.9000  C105         1       1  \n",
       "415  SOTON/O.Q. 3101262    7.2500   NaN         0       1  \n",
       "416              359309    8.0500   NaN         0       1  \n",
       "417                2668   22.3583   NaN         1       3  \n",
       "\n",
       "[1309 rows x 12 columns]"
      ]
     },
     "execution_count": 9,
     "metadata": {},
     "output_type": "execute_result"
    }
   ],
   "source": [
    "data['Family']=data['SibSp']+data['Parch']+1\n",
    "data.drop(['SibSp'],axis=1)\n",
    "data.drop(['Parch'],axis=1)"
   ]
  },
  {
   "cell_type": "code",
   "execution_count": 10,
   "metadata": {},
   "outputs": [
    {
     "data": {
      "text/plain": [
       "\"\\n#IneHotEncoderのencoding\\nohe=OneHotEncoder(sparse=False,categories='auto')\\norigin_cols=[]\\nohe.fit(data[origin_cols])\\n\\n#ダミー変数の列名も作成\\ncolumns=[]\\nfor i,c in enumerate(origin_cols):\\n    columns+=[f'{c}_{v}' for v in ohe.categories_[i]]\\n\\n#生成されたダミー変数をデータフレームに変換\\ndummy_data=pd.DataFrame(ohe.transform(data[origin_cols]),columns=columns,index=data.index)\\n\\n#元のデータと結合\\ndata=pd.concat([data.drop(origin_cols,axis=1),dummy_data],axis=1)\\n\""
      ]
     },
     "execution_count": 10,
     "metadata": {},
     "output_type": "execute_result"
    }
   ],
   "source": [
    "from sklearn.preprocessing import OneHotEncoder\n",
    "'''\n",
    "#IneHotEncoderのencoding\n",
    "ohe=OneHotEncoder(sparse=False,categories='auto')\n",
    "origin_cols=[]\n",
    "ohe.fit(data[origin_cols])\n",
    "\n",
    "#ダミー変数の列名も作成\n",
    "columns=[]\n",
    "for i,c in enumerate(origin_cols):\n",
    "    columns+=[f'{c}_{v}' for v in ohe.categories_[i]]\n",
    "\n",
    "#生成されたダミー変数をデータフレームに変換\n",
    "dummy_data=pd.DataFrame(ohe.transform(data[origin_cols]),columns=columns,index=data.index)\n",
    "\n",
    "#元のデータと結合\n",
    "data=pd.concat([data.drop(origin_cols,axis=1),dummy_data],axis=1)\n",
    "'''"
   ]
  },
  {
   "cell_type": "code",
   "execution_count": 11,
   "metadata": {},
   "outputs": [],
   "source": [
    "delete_columns=['Name','PassengerId','Ticket','Cabin']\n",
    "data.drop(delete_columns,axis=1,inplace=True)"
   ]
  },
  {
   "cell_type": "code",
   "execution_count": 12,
   "metadata": {},
   "outputs": [],
   "source": [
    "#カテゴリー変数を格納する\n",
    "categorical_features=['Embarked','Pclass','Sex']"
   ]
  },
  {
   "cell_type": "markdown",
   "metadata": {},
   "source": [
    "トレーニングデータとテストデータに戻す"
   ]
  },
  {
   "cell_type": "code",
   "execution_count": 13,
   "metadata": {},
   "outputs": [],
   "source": [
    "import matplotlib.pyplot as plt\n",
    "import seaborn as sns\n",
    "\n",
    "def plot_feature(train):\n",
    "    y_sub='Survived'\n",
    "    columns=data.columns.values.tolist()\n",
    "    print(columns)\n",
    "    columns.remove(y_sub)\n",
    "    for val in columns:\n",
    "        value_list=set(train[val].astype('category').values)\n",
    "        print(len(value_list))\n",
    "        if len(value_list)<8:\n",
    "            sns.countplot(x=val, hue=y_sub, data=train)\n",
    "            plt.legend(loc='upper right', title=y_sub)\n",
    "            plt.show()\n",
    "        else:\n",
    "            plt.hist(train.loc[train[y_sub] == 0, val].dropna(), bins=20, alpha=0.5, label='0')\n",
    "            plt.hist(train.loc[train[y_sub] == 1, val].dropna(), bins=20, alpha=0.5, label='1')\n",
    "            plt.xlabel(val)\n",
    "            plt.ylabel('count')\n",
    "            plt.legend(title=y_sub)\n",
    "            plt.show()"
   ]
  },
  {
   "cell_type": "code",
   "execution_count": 14,
   "metadata": {},
   "outputs": [
    {
     "name": "stdout",
     "output_type": "stream",
     "text": [
      "['Survived', 'Pclass', 'Sex', 'Age', 'SibSp', 'Parch', 'Fare', 'Embarked', 'Family']\n",
      "3\n"
     ]
    },
    {
     "data": {
      "image/png": "[encoded data removed]",
      "text/plain": [
       "<Figure size 432x288 with 1 Axes>"
      ]
     },
     "metadata": {
      "needs_background": "light"
     },
     "output_type": "display_data"
    },
    {
     "name": "stdout",
     "output_type": "stream",
     "text": [
      "2\n"
     ]
    },
    {
     "data": {
      "image/png": "[encoded data removed]",
      "text/plain": [
       "<Figure size 432x288 with 1 Axes>"
      ]
     },
     "metadata": {
      "needs_background": "light"
     },
     "output_type": "display_data"
    },
    {
     "name": "stdout",
     "output_type": "stream",
     "text": [
      "88\n"
     ]
    },
    {
     "data": {
      "image/png": "[encoded data removed]",
      "text/plain": [
       "<Figure size 432x288 with 1 Axes>"
      ]
     },
     "metadata": {
      "needs_background": "light"
     },
     "output_type": "display_data"
    },
    {
     "name": "stdout",
     "output_type": "stream",
     "text": [
      "7\n"
     ]
    },
    {
     "data": {
      "image/png": "[encoded data removed]",
      "text/plain": [
       "<Figure size 432x288 with 1 Axes>"
      ]
     },
     "metadata": {
      "needs_background": "light"
     },
     "output_type": "display_data"
    },
    {
     "name": "stdout",
     "output_type": "stream",
     "text": [
      "7\n"
     ]
    },
    {
     "data": {
      "image/png": "[encoded data removed]",
      "text/plain": [
       "<Figure size 432x288 with 1 Axes>"
      ]
     },
     "metadata": {
      "needs_background": "light"
     },
     "output_type": "display_data"
    },
    {
     "name": "stdout",
     "output_type": "stream",
     "text": [
      "248\n"
     ]
    },
    {
     "data": {
      "image/png": "[encoded data removed]",
      "text/plain": [
       "<Figure size 432x288 with 1 Axes>"
      ]
     },
     "metadata": {
      "needs_background": "light"
     },
     "output_type": "display_data"
    },
    {
     "name": "stdout",
     "output_type": "stream",
     "text": [
      "3\n"
     ]
    },
    {
     "data": {
      "image/png": "[encoded data removed]",
      "text/plain": [
       "<Figure size 432x288 with 1 Axes>"
      ]
     },
     "metadata": {
      "needs_background": "light"
     },
     "output_type": "display_data"
    },
    {
     "name": "stdout",
     "output_type": "stream",
     "text": [
      "9\n"
     ]
    },
    {
     "data": {
      "image/png": "[encoded data removed]",
      "text/plain": [
       "<Figure size 432x288 with 1 Axes>"
      ]
     },
     "metadata": {
      "needs_background": "light"
     },
     "output_type": "display_data"
    }
   ],
   "source": [
    "train=data[:len(train)]\n",
    "test=data[len(train):]\n",
    "train_copy=pd.DataFrame()\n",
    "train_copy=train.copy()\n",
    "\n",
    "#特徴量可視化\n",
    "plot_feature(train)\n",
    "\n",
    "y_train=train['Survived']\n",
    "\n",
    "del train['Survived']\n",
    "x_train=train\n",
    "\n",
    "#y_test=gender_submission['Survived']\n",
    "\n",
    "del test['Survived']\n",
    "x_test=test"
   ]
  },
  {
   "cell_type": "code",
   "execution_count": 15,
   "metadata": {
    "scrolled": true
   },
   "outputs": [
    {
     "data": {
      "text/html": [
       "<div>\n",
       "<style scoped>\n",
       "    .dataframe tbody tr th:only-of-type {\n",
       "        vertical-align: middle;\n",
       "    }\n",
       "\n",
       "    .dataframe tbody tr th {\n",
       "        vertical-align: top;\n",
       "    }\n",
       "\n",
       "    .dataframe thead th {\n",
       "        text-align: right;\n",
       "    }\n",
       "</style>\n",
       "<table border=\"1\" class=\"dataframe\">\n",
       "  <thead>\n",
       "    <tr style=\"text-align: right;\">\n",
       "      <th></th>\n",
       "      <th>Pclass</th>\n",
       "      <th>Sex</th>\n",
       "      <th>Age</th>\n",
       "      <th>SibSp</th>\n",
       "      <th>Parch</th>\n",
       "      <th>Fare</th>\n",
       "      <th>Embarked</th>\n",
       "      <th>Family</th>\n",
       "    </tr>\n",
       "  </thead>\n",
       "  <tbody>\n",
       "    <tr>\n",
       "      <th>0</th>\n",
       "      <td>3</td>\n",
       "      <td>0</td>\n",
       "      <td>22.0</td>\n",
       "      <td>1</td>\n",
       "      <td>0</td>\n",
       "      <td>7.2500</td>\n",
       "      <td>0</td>\n",
       "      <td>2</td>\n",
       "    </tr>\n",
       "    <tr>\n",
       "      <th>1</th>\n",
       "      <td>1</td>\n",
       "      <td>1</td>\n",
       "      <td>38.0</td>\n",
       "      <td>1</td>\n",
       "      <td>0</td>\n",
       "      <td>71.2833</td>\n",
       "      <td>1</td>\n",
       "      <td>2</td>\n",
       "    </tr>\n",
       "    <tr>\n",
       "      <th>2</th>\n",
       "      <td>3</td>\n",
       "      <td>1</td>\n",
       "      <td>26.0</td>\n",
       "      <td>0</td>\n",
       "      <td>0</td>\n",
       "      <td>7.9250</td>\n",
       "      <td>0</td>\n",
       "      <td>1</td>\n",
       "    </tr>\n",
       "    <tr>\n",
       "      <th>3</th>\n",
       "      <td>1</td>\n",
       "      <td>1</td>\n",
       "      <td>35.0</td>\n",
       "      <td>1</td>\n",
       "      <td>0</td>\n",
       "      <td>53.1000</td>\n",
       "      <td>0</td>\n",
       "      <td>2</td>\n",
       "    </tr>\n",
       "    <tr>\n",
       "      <th>4</th>\n",
       "      <td>3</td>\n",
       "      <td>0</td>\n",
       "      <td>35.0</td>\n",
       "      <td>0</td>\n",
       "      <td>0</td>\n",
       "      <td>8.0500</td>\n",
       "      <td>0</td>\n",
       "      <td>1</td>\n",
       "    </tr>\n",
       "    <tr>\n",
       "      <th>...</th>\n",
       "      <td>...</td>\n",
       "      <td>...</td>\n",
       "      <td>...</td>\n",
       "      <td>...</td>\n",
       "      <td>...</td>\n",
       "      <td>...</td>\n",
       "      <td>...</td>\n",
       "      <td>...</td>\n",
       "    </tr>\n",
       "    <tr>\n",
       "      <th>886</th>\n",
       "      <td>2</td>\n",
       "      <td>0</td>\n",
       "      <td>27.0</td>\n",
       "      <td>0</td>\n",
       "      <td>0</td>\n",
       "      <td>13.0000</td>\n",
       "      <td>0</td>\n",
       "      <td>1</td>\n",
       "    </tr>\n",
       "    <tr>\n",
       "      <th>887</th>\n",
       "      <td>1</td>\n",
       "      <td>1</td>\n",
       "      <td>19.0</td>\n",
       "      <td>0</td>\n",
       "      <td>0</td>\n",
       "      <td>30.0000</td>\n",
       "      <td>0</td>\n",
       "      <td>1</td>\n",
       "    </tr>\n",
       "    <tr>\n",
       "      <th>888</th>\n",
       "      <td>3</td>\n",
       "      <td>1</td>\n",
       "      <td>8.0</td>\n",
       "      <td>1</td>\n",
       "      <td>2</td>\n",
       "      <td>23.4500</td>\n",
       "      <td>0</td>\n",
       "      <td>4</td>\n",
       "    </tr>\n",
       "    <tr>\n",
       "      <th>889</th>\n",
       "      <td>1</td>\n",
       "      <td>0</td>\n",
       "      <td>26.0</td>\n",
       "      <td>0</td>\n",
       "      <td>0</td>\n",
       "      <td>30.0000</td>\n",
       "      <td>1</td>\n",
       "      <td>1</td>\n",
       "    </tr>\n",
       "    <tr>\n",
       "      <th>890</th>\n",
       "      <td>3</td>\n",
       "      <td>0</td>\n",
       "      <td>32.0</td>\n",
       "      <td>0</td>\n",
       "      <td>0</td>\n",
       "      <td>7.7500</td>\n",
       "      <td>2</td>\n",
       "      <td>1</td>\n",
       "    </tr>\n",
       "  </tbody>\n",
       "</table>\n",
       "<p>891 rows × 8 columns</p>\n",
       "</div>"
      ],
      "text/plain": [
       "     Pclass  Sex   Age  SibSp  Parch     Fare  Embarked  Family\n",
       "0         3    0  22.0      1      0   7.2500         0       2\n",
       "1         1    1  38.0      1      0  71.2833         1       2\n",
       "2         3    1  26.0      0      0   7.9250         0       1\n",
       "3         1    1  35.0      1      0  53.1000         0       2\n",
       "4         3    0  35.0      0      0   8.0500         0       1\n",
       "..      ...  ...   ...    ...    ...      ...       ...     ...\n",
       "886       2    0  27.0      0      0  13.0000         0       1\n",
       "887       1    1  19.0      0      0  30.0000         0       1\n",
       "888       3    1   8.0      1      2  23.4500         0       4\n",
       "889       1    0  26.0      0      0  30.0000         1       1\n",
       "890       3    0  32.0      0      0   7.7500         2       1\n",
       "\n",
       "[891 rows x 8 columns]"
      ]
     },
     "execution_count": 15,
     "metadata": {},
     "output_type": "execute_result"
    }
   ],
   "source": [
    "type(train)\n",
    "x_train"
   ]
  },
  {
   "cell_type": "code",
   "execution_count": 16,
   "metadata": {},
   "outputs": [],
   "source": [
    "np_x_train=x_train.to_numpy()\n",
    "np_y_train=y_train.to_numpy()\n",
    "np_x_test=x_test.to_numpy()\n",
    "#np_y_test=y_test.to_numpy()"
   ]
  },
  {
   "cell_type": "markdown",
   "metadata": {},
   "source": [
    "\n",
    "# 重要度を求める"
   ]
  },
  {
   "cell_type": "code",
   "execution_count": 17,
   "metadata": {},
   "outputs": [],
   "source": [
    "from sklearn.ensemble import RandomForestClassifier\n",
    "\n",
    "feat_labels=x_train.columns[:]\n",
    "forest=RandomForestClassifier(n_estimators=10000,random_state=0,n_jobs=-1)\n",
    "#モデルの適合\n",
    "forest.fit(x_train,y_train)\n",
    "importances=forest.feature_importances_\n",
    "#重要度の降順で特徴量のインデックスを抽出\n",
    "indices=np.argsort(importances)[::-1]"
   ]
  },
  {
   "cell_type": "code",
   "execution_count": 18,
   "metadata": {},
   "outputs": [
    {
     "name": "stdout",
     "output_type": "stream",
     "text": [
      " 1) Fare                           0.264527\n",
      " 2) Age                            0.256612\n",
      " 3) Sex                            0.255673\n",
      " 4) Pclass                         0.080829\n",
      " 5) Family                         0.052863\n",
      " 6) Embarked                       0.032579\n",
      " 7) SibSp                          0.030609\n",
      " 8) Parch                          0.026307\n"
     ]
    },
    {
     "data": {
      "image/png": "[encoded data removed]",
      "text/plain": [
       "<Figure size 432x288 with 1 Axes>"
      ]
     },
     "metadata": {
      "needs_background": "light"
     },
     "output_type": "display_data"
    }
   ],
   "source": [
    "import matplotlib.pyplot as plt\n",
    "#重要度を降順で表示\n",
    "for f in range(np_x_train.shape[1]):\n",
    "    print(\"%2d) %-*s %f\"%(f+1,30,\n",
    "                         feat_labels[indices[f]],\n",
    "                         importances[indices[f]]))\n",
    "plt.title('Feature Importances')\n",
    "plt.bar(range(np_x_train.shape[1]),\n",
    "      importances[indices],\n",
    "      color='lightblue',\n",
    "      align='center')\n",
    "plt.xticks(range(np_x_train.shape[1]),\n",
    "          feat_labels[indices],rotation=90)\n",
    "plt.xlim([-1,np_x_train.shape[1]])\n",
    "plt.tight_layout()\n",
    "plt.show()"
   ]
  },
  {
   "cell_type": "markdown",
   "metadata": {},
   "source": [
    "重要度が低い特徴量を削除する"
   ]
  },
  {
   "cell_type": "code",
   "execution_count": 19,
   "metadata": {},
   "outputs": [],
   "source": [
    "sita=0.05\n",
    "\n",
    "feature_list=list(feat_labels[indices[:]].values.flatten())\n",
    "importance_list=list(importances[indices[:]])\n",
    "\n",
    "new_train=train\n",
    "new_test=test\n",
    "for i in range(len(train.columns)):\n",
    "    if importance_list[i]<sita:\n",
    "        del new_train[feature_list[i]]\n",
    "        del new_test[feature_list[i]]\n",
    "        if feature_list[i] in categorical_features:\n",
    "            categorical_features.remove(feature_list[i])\n",
    "            \n"
   ]
  },
  {
   "cell_type": "code",
   "execution_count": 20,
   "metadata": {},
   "outputs": [
    {
     "data": {
      "text/html": [
       "<div>\n",
       "<style scoped>\n",
       "    .dataframe tbody tr th:only-of-type {\n",
       "        vertical-align: middle;\n",
       "    }\n",
       "\n",
       "    .dataframe tbody tr th {\n",
       "        vertical-align: top;\n",
       "    }\n",
       "\n",
       "    .dataframe thead th {\n",
       "        text-align: right;\n",
       "    }\n",
       "</style>\n",
       "<table border=\"1\" class=\"dataframe\">\n",
       "  <thead>\n",
       "    <tr style=\"text-align: right;\">\n",
       "      <th></th>\n",
       "      <th>Pclass</th>\n",
       "      <th>Sex</th>\n",
       "      <th>Age</th>\n",
       "      <th>Fare</th>\n",
       "      <th>Family</th>\n",
       "    </tr>\n",
       "  </thead>\n",
       "  <tbody>\n",
       "    <tr>\n",
       "      <th>0</th>\n",
       "      <td>3</td>\n",
       "      <td>0</td>\n",
       "      <td>22.0</td>\n",
       "      <td>7.2500</td>\n",
       "      <td>2</td>\n",
       "    </tr>\n",
       "    <tr>\n",
       "      <th>1</th>\n",
       "      <td>1</td>\n",
       "      <td>1</td>\n",
       "      <td>38.0</td>\n",
       "      <td>71.2833</td>\n",
       "      <td>2</td>\n",
       "    </tr>\n",
       "    <tr>\n",
       "      <th>2</th>\n",
       "      <td>3</td>\n",
       "      <td>1</td>\n",
       "      <td>26.0</td>\n",
       "      <td>7.9250</td>\n",
       "      <td>1</td>\n",
       "    </tr>\n",
       "    <tr>\n",
       "      <th>3</th>\n",
       "      <td>1</td>\n",
       "      <td>1</td>\n",
       "      <td>35.0</td>\n",
       "      <td>53.1000</td>\n",
       "      <td>2</td>\n",
       "    </tr>\n",
       "    <tr>\n",
       "      <th>4</th>\n",
       "      <td>3</td>\n",
       "      <td>0</td>\n",
       "      <td>35.0</td>\n",
       "      <td>8.0500</td>\n",
       "      <td>1</td>\n",
       "    </tr>\n",
       "    <tr>\n",
       "      <th>...</th>\n",
       "      <td>...</td>\n",
       "      <td>...</td>\n",
       "      <td>...</td>\n",
       "      <td>...</td>\n",
       "      <td>...</td>\n",
       "    </tr>\n",
       "    <tr>\n",
       "      <th>886</th>\n",
       "      <td>2</td>\n",
       "      <td>0</td>\n",
       "      <td>27.0</td>\n",
       "      <td>13.0000</td>\n",
       "      <td>1</td>\n",
       "    </tr>\n",
       "    <tr>\n",
       "      <th>887</th>\n",
       "      <td>1</td>\n",
       "      <td>1</td>\n",
       "      <td>19.0</td>\n",
       "      <td>30.0000</td>\n",
       "      <td>1</td>\n",
       "    </tr>\n",
       "    <tr>\n",
       "      <th>888</th>\n",
       "      <td>3</td>\n",
       "      <td>1</td>\n",
       "      <td>8.0</td>\n",
       "      <td>23.4500</td>\n",
       "      <td>4</td>\n",
       "    </tr>\n",
       "    <tr>\n",
       "      <th>889</th>\n",
       "      <td>1</td>\n",
       "      <td>0</td>\n",
       "      <td>26.0</td>\n",
       "      <td>30.0000</td>\n",
       "      <td>1</td>\n",
       "    </tr>\n",
       "    <tr>\n",
       "      <th>890</th>\n",
       "      <td>3</td>\n",
       "      <td>0</td>\n",
       "      <td>32.0</td>\n",
       "      <td>7.7500</td>\n",
       "      <td>1</td>\n",
       "    </tr>\n",
       "  </tbody>\n",
       "</table>\n",
       "<p>891 rows × 5 columns</p>\n",
       "</div>"
      ],
      "text/plain": [
       "     Pclass  Sex   Age     Fare  Family\n",
       "0         3    0  22.0   7.2500       2\n",
       "1         1    1  38.0  71.2833       2\n",
       "2         3    1  26.0   7.9250       1\n",
       "3         1    1  35.0  53.1000       2\n",
       "4         3    0  35.0   8.0500       1\n",
       "..      ...  ...   ...      ...     ...\n",
       "886       2    0  27.0  13.0000       1\n",
       "887       1    1  19.0  30.0000       1\n",
       "888       3    1   8.0  23.4500       4\n",
       "889       1    0  26.0  30.0000       1\n",
       "890       3    0  32.0   7.7500       1\n",
       "\n",
       "[891 rows x 5 columns]"
      ]
     },
     "execution_count": 20,
     "metadata": {},
     "output_type": "execute_result"
    }
   ],
   "source": [
    "x_train"
   ]
  },
  {
   "cell_type": "code",
   "execution_count": 21,
   "metadata": {},
   "outputs": [],
   "source": [
    "x_train=new_train\n",
    "x_test=new_test\n",
    "\n",
    "np_x_train=x_train.to_numpy()\n",
    "np_x_test=x_test.to_numpy()"
   ]
  },
  {
   "cell_type": "code",
   "execution_count": 22,
   "metadata": {},
   "outputs": [],
   "source": [
    "from sklearn.model_selection import StratifiedKFold\n",
    "from sklearn.svm import SVC\n",
    "from sklearn.metrics import accuracy_score\n",
    "from sklearn.metrics import precision_recall_fscore_support\n",
    "from sklearn.preprocessing import StandardScaler\n",
    "from sklearn.metrics import confusion_matrix\n",
    "import matplotlib.pyplot as plt\n",
    "import csv\n",
    "from sklearn.model_selection import GroupKFold,GridSearchCV\n",
    "import lightgbm as lgb\n",
    "import copy"
   ]
  },
  {
   "cell_type": "code",
   "execution_count": 23,
   "metadata": {},
   "outputs": [],
   "source": [
    "#標準化\n",
    "#stdsc=StandardScaler()\n",
    "#x_train=stdsc.fit_transform(x_train)\n",
    "#x_test=stdsc.fit_transform(x_test)"
   ]
  },
  {
   "cell_type": "markdown",
   "metadata": {},
   "source": [
    "混合行列を作る関数"
   ]
  },
  {
   "cell_type": "code",
   "execution_count": 24,
   "metadata": {},
   "outputs": [],
   "source": [
    "def conf(name,confmat):\n",
    "    flg,ax=plt.subplots(figsize=(5,5))\n",
    "    ax.matshow(confmat,cmap=plt.cm.Blues,alpha=0.3)\n",
    "    ax.tick_params(labelsize=14)\n",
    "    for i in range(confmat.shape[0]):\n",
    "        for j in range(confmat.shape[1]):\n",
    "            ax.text(x=j,y=i,s=confmat[i,j],va='center',ha='center',fontsize=14)\n",
    "    plt.xlabel('predicted label',fontsize=14)\n",
    "    plt.ylabel('true label',fontsize=14)\n",
    "    plt.savefig(name)\n",
    "    plt.title(name)\n",
    "    "
   ]
  },
  {
   "cell_type": "code",
   "execution_count": 25,
   "metadata": {},
   "outputs": [],
   "source": [
    "class ac_variable:\n",
    "    def __init__(self):\n",
    "        self.accuracy=0\n",
    "        self.accuracies=[]\n",
    "        self.p_r_f_s=[['precision','recall','fscore','support']]\n",
    "        self.all_confmat=[[0]*2]*2\n",
    "\n",
    "def accurate(y_test,y_pred,ac_variable):\n",
    "    \n",
    "    y_test=y_test.values\n",
    "    #Accuracy\n",
    "    ac_variable.accuracy=accuracy_score(y_test,y_pred)\n",
    "    ac_variable.accuracies.append(ac_variable.accuracy)\n",
    "    #混同行列の作成\n",
    "    confmat=confusion_matrix(y_true=y_test,y_pred=y_pred)\n",
    "    ac_variable.all_confmat=ac_variable.all_confmat+confmat\n",
    "    prfs=precision_recall_fscore_support(y_test,y_pred,average='binary',labels=[\"0\",\"1\"])\n",
    "    ac_variable.p_r_f_s.append(prfs)\n",
    "    return ac_variable"
   ]
  },
  {
   "cell_type": "code",
   "execution_count": 26,
   "metadata": {
    "scrolled": true
   },
   "outputs": [
    {
     "name": "stdout",
     "output_type": "stream",
     "text": [
      "{'C': 100, 'gamma': 0.001, 'kernel': 'rbf'}\n",
      "Training until validation scores don't improve for 10 rounds\n",
      "[10]\ttraining's binary_logloss: 0.49866\tvalid_1's binary_logloss: 0.554819\n",
      "[20]\ttraining's binary_logloss: 0.418294\tvalid_1's binary_logloss: 0.510323\n",
      "[30]\ttraining's binary_logloss: 0.370512\tvalid_1's binary_logloss: 0.499687\n",
      "[40]\ttraining's binary_logloss: 0.339481\tvalid_1's binary_logloss: 0.495597\n",
      "[50]\ttraining's binary_logloss: 0.313555\tvalid_1's binary_logloss: 0.487209\n",
      "[60]\ttraining's binary_logloss: 0.29385\tvalid_1's binary_logloss: 0.488423\n",
      "Early stopping, best iteration is:\n",
      "[55]\ttraining's binary_logloss: 0.302537\tvalid_1's binary_logloss: 0.487175\n"
     ]
    },
    {
     "name": "stderr",
     "output_type": "stream",
     "text": [
      "D:\\masa\\Anaconda3\\lib\\site-packages\\lightgbm\\basic.py:1291: UserWarning: Using categorical_feature in Dataset.\n",
      "  warnings.warn('Using categorical_feature in Dataset.')\n"
     ]
    },
    {
     "name": "stdout",
     "output_type": "stream",
     "text": [
      "{'C': 1000, 'gamma': 0.001, 'kernel': 'rbf'}\n",
      "Training until validation scores don't improve for 10 rounds\n",
      "[10]\ttraining's binary_logloss: 0.49943\tvalid_1's binary_logloss: 0.517333\n",
      "[20]\ttraining's binary_logloss: 0.422938\tvalid_1's binary_logloss: 0.461163\n",
      "[30]\ttraining's binary_logloss: 0.37968\tvalid_1's binary_logloss: 0.436855\n",
      "[40]\ttraining's binary_logloss: 0.350219\tvalid_1's binary_logloss: 0.421402\n",
      "[50]\ttraining's binary_logloss: 0.329633\tvalid_1's binary_logloss: 0.415151\n",
      "[60]\ttraining's binary_logloss: 0.311548\tvalid_1's binary_logloss: 0.409264\n",
      "[70]\ttraining's binary_logloss: 0.295852\tvalid_1's binary_logloss: 0.408207\n",
      "[80]\ttraining's binary_logloss: 0.280348\tvalid_1's binary_logloss: 0.411084\n",
      "Early stopping, best iteration is:\n",
      "[73]\ttraining's binary_logloss: 0.290961\tvalid_1's binary_logloss: 0.407563\n"
     ]
    },
    {
     "name": "stderr",
     "output_type": "stream",
     "text": [
      "D:\\masa\\Anaconda3\\lib\\site-packages\\lightgbm\\basic.py:1291: UserWarning: Using categorical_feature in Dataset.\n",
      "  warnings.warn('Using categorical_feature in Dataset.')\n",
      "D:\\masa\\Anaconda3\\lib\\site-packages\\sklearn\\model_selection\\_search.py:841: DeprecationWarning: The default of the `iid` parameter will change from True to False in version 0.22 and will be removed in 0.24. This will change numeric results when test-set sizes are unequal.\n",
      "  DeprecationWarning)\n",
      "D:\\masa\\Anaconda3\\lib\\site-packages\\lightgbm\\basic.py:1291: UserWarning: Using categorical_feature in Dataset.\n",
      "  warnings.warn('Using categorical_feature in Dataset.')\n"
     ]
    },
    {
     "name": "stdout",
     "output_type": "stream",
     "text": [
      "{'C': 1000, 'gamma': 0.0001, 'kernel': 'rbf'}\n",
      "Training until validation scores don't improve for 10 rounds\n",
      "[10]\ttraining's binary_logloss: 0.503331\tvalid_1's binary_logloss: 0.523292\n",
      "[20]\ttraining's binary_logloss: 0.424238\tvalid_1's binary_logloss: 0.457909\n",
      "[30]\ttraining's binary_logloss: 0.376892\tvalid_1's binary_logloss: 0.428157\n",
      "[40]\ttraining's binary_logloss: 0.347893\tvalid_1's binary_logloss: 0.418315\n",
      "[50]\ttraining's binary_logloss: 0.32836\tvalid_1's binary_logloss: 0.421246\n",
      "Early stopping, best iteration is:\n",
      "[40]\ttraining's binary_logloss: 0.347893\tvalid_1's binary_logloss: 0.418315\n",
      "{'C': 1000, 'gamma': 0.0001, 'kernel': 'rbf'}\n",
      "Training until validation scores don't improve for 10 rounds\n",
      "[10]\ttraining's binary_logloss: 0.507615\tvalid_1's binary_logloss: 0.518474\n",
      "[20]\ttraining's binary_logloss: 0.429857\tvalid_1's binary_logloss: 0.449263\n",
      "[30]\ttraining's binary_logloss: 0.386889\tvalid_1's binary_logloss: 0.411056\n",
      "[40]\ttraining's binary_logloss: 0.358047\tvalid_1's binary_logloss: 0.392048\n",
      "[50]\ttraining's binary_logloss: 0.335273\tvalid_1's binary_logloss: 0.378305\n",
      "[60]\ttraining's binary_logloss: 0.31511\tvalid_1's binary_logloss: 0.373018\n",
      "[70]\ttraining's binary_logloss: 0.298298\tvalid_1's binary_logloss: 0.367243\n",
      "[80]\ttraining's binary_logloss: 0.28395\tvalid_1's binary_logloss: 0.367618\n",
      "Early stopping, best iteration is:\n",
      "[77]\ttraining's binary_logloss: 0.288736\tvalid_1's binary_logloss: 0.366842\n",
      "svm accuracies\n",
      "[0.75, 0.7802690582959642, 0.7522522522522522, 0.7882882882882883]\n",
      "lgm accuracies\n",
      "[0.7901785714285714, 0.8565022421524664, 0.8378378378378378, 0.8558558558558559]\n"
     ]
    },
    {
     "name": "stderr",
     "output_type": "stream",
     "text": [
      "D:\\masa\\Anaconda3\\lib\\site-packages\\lightgbm\\basic.py:1291: UserWarning: Using categorical_feature in Dataset.\n",
      "  warnings.warn('Using categorical_feature in Dataset.')\n"
     ]
    },
    {
     "data": {
      "image/png": "[encoded data removed]",
      "text/plain": [
       "<Figure size 360x360 with 1 Axes>"
      ]
     },
     "metadata": {
      "needs_background": "light"
     },
     "output_type": "display_data"
    },
    {
     "data": {
      "image/png": "[encoded data removed]",
      "text/plain": [
       "<Figure size 360x360 with 1 Axes>"
      ]
     },
     "metadata": {
      "needs_background": "light"
     },
     "output_type": "display_data"
    }
   ],
   "source": [
    "#カーネルsvmパラメータ設定\n",
    "param_range=[0.0001,0.001,0.01,0.1,1,10,100,1000]\n",
    "params_svm={'C':param_range,'gamma':param_range,'kernel':[\"rbf\"]}\n",
    "\n",
    "#k分割\n",
    "k=4\n",
    "#グループｋ交差検証\n",
    "#gkf=GroupKFold(n_splits=4)\n",
    "#層別ｋ交差検証\n",
    "skf=StratifiedKFold(n_splits=k)\n",
    "\n",
    "#予測データのリストを格納\n",
    "y_val_svm=[]\n",
    "y_val_lgb=[]\n",
    "\n",
    "#予測データの精度を格納\n",
    "validation_rate_svm=[]\n",
    "validation_rate_lgm=[]\n",
    "\n",
    "#lgbパラメータ設定\n",
    "params_lgm = {\n",
    "    'objective': 'binary',\n",
    "    'max_bin': 300,\n",
    "    'learning_rate': 0.05,\n",
    "    'num_leaves': 40\n",
    "}\n",
    "\n",
    "#各精度評価変数の設定\n",
    "ac_svm=copy.deepcopy(ac_variable())\n",
    "ac_lgb=copy.deepcopy(ac_variable())\n",
    "\n",
    "#交差検証の回数\n",
    "count=0\n",
    "\n",
    "#ループ内のtrain,testは交差検証のトレーニング、テストデータ\n",
    "#コンペのテストデータはnp_x_test\n",
    "for train_index,test_index in skf.split(x_train,y_train):\n",
    "#for train_index,test_index in gkf.split(np_x_train,np_y_train,groups=group):\n",
    "    x_tr,x_te=x_train.iloc[train_index],x_train.iloc[test_index]\n",
    "    y_tr,y_te=y_train.iloc[train_index],y_train.iloc[test_index]\n",
    "    \n",
    "    #gridサーチsvm\n",
    "    gs=GridSearchCV(estimator=SVC(),param_grid=params_svm,cv=k)\n",
    "    gs.fit(x_tr,y_tr)\n",
    "    print(gs.best_params_)\n",
    "    y_pred=gs.predict(x_te)\n",
    "    y_pred = (y_pred > 0.5).astype(int)\n",
    "    ac_svm=accurate(y_te,y_pred,ac_svm)\n",
    "    y_val_svm.append(gs.predict(x_test)*ac_svm.accuracy)\n",
    "    \n",
    "    #lgb\n",
    "    lgb_train = lgb.Dataset(x_tr, y_tr,\n",
    "                            categorical_feature=categorical_features)\n",
    "    lgb_eval = lgb.Dataset(x_te,y_te,reference=lgb_train,\n",
    "                           categorical_feature=categorical_features)\n",
    "\n",
    "    model = lgb.train(params_lgm, lgb_train,\n",
    "                                   valid_sets=[lgb_train, lgb_eval],\n",
    "                                   verbose_eval=10,\n",
    "                                   num_boost_round=1000,\n",
    "                                   early_stopping_rounds=10)\n",
    "    y_pred = model.predict(x_te, num_iteration=model.best_iteration)\n",
    "    y_pred = (y_pred > 0.5).astype(int)\n",
    "    ac_lgb=accurate(y_te,y_pred,ac_lgb)\n",
    "    y_val_lgb.append(model.predict(x_test)*ac_lgb.accuracy)\n",
    "    \n",
    "    count+=1\n",
    "    \n",
    "print('svm accuracies')\n",
    "print(ac_svm.accuracies)\n",
    "conf(\"svm conf\",ac_svm.all_confmat)\n",
    "\n",
    "print('lgm accuracies')\n",
    "print(ac_lgb.accuracies)\n",
    "conf(\"lgm conf\",ac_lgb.all_confmat)"
   ]
  },
  {
   "cell_type": "code",
   "execution_count": 27,
   "metadata": {},
   "outputs": [],
   "source": [
    "y_sub=[[0]*len(x_test)]\n",
    "for y in y_val_svm:\n",
    "    y_sub+=y\n",
    "for y in y_val_lgb:\n",
    "    y_sub+=y\n",
    "y_sub=y_sub/(sum(ac_svm.accuracies)+sum(ac_lgb.accuracies))"
   ]
  },
  {
   "cell_type": "code",
   "execution_count": 28,
   "metadata": {},
   "outputs": [],
   "source": [
    "y_sub= (y_sub > 0.5).astype(int)\n",
    "y_sub=y_sub[0]"
   ]
  },
  {
   "cell_type": "code",
   "execution_count": 29,
   "metadata": {},
   "outputs": [
    {
     "data": {
      "text/plain": [
       "array([0, 1, 0, 0, 1, 0, 1, 0, 1, 0, 0, 0, 1, 0, 1, 1, 0, 0, 1, 1, 0, 0,\n",
       "       1, 0, 1, 0, 1, 0, 0, 0, 0, 0, 1, 1, 1, 0, 1, 1, 0, 0, 0, 0, 0, 1,\n",
       "       1, 0, 0, 0, 1, 1, 0, 0, 1, 1, 0, 0, 0, 0, 0, 1, 0, 0, 0, 1, 0, 1,\n",
       "       1, 0, 1, 1, 1, 0, 1, 1, 1, 1, 0, 1, 0, 1, 0, 1, 0, 0, 0, 0, 1, 1,\n",
       "       1, 1, 1, 0, 1, 0, 0, 0, 1, 0, 1, 0, 1, 0, 0, 0, 1, 0, 0, 0, 0, 0,\n",
       "       0, 1, 1, 1, 1, 0, 0, 1, 0, 1, 1, 0, 1, 0, 0, 1, 0, 1, 0, 0, 0, 0,\n",
       "       0, 0, 0, 0, 0, 0, 1, 0, 0, 1, 0, 0, 0, 0, 0, 0, 0, 0, 1, 0, 0, 1,\n",
       "       0, 0, 1, 1, 0, 1, 1, 0, 1, 0, 0, 1, 0, 0, 1, 1, 0, 0, 0, 0, 0, 1,\n",
       "       1, 0, 1, 1, 0, 0, 1, 0, 1, 0, 1, 0, 0, 0, 0, 0, 0, 0, 0, 0, 1, 1,\n",
       "       0, 1, 1, 1, 1, 1, 0, 0, 1, 0, 1, 0, 0, 0, 0, 1, 1, 0, 1, 1, 1, 0,\n",
       "       1, 0, 1, 0, 1, 1, 0, 1, 0, 0, 0, 1, 0, 0, 0, 0, 0, 0, 1, 1, 1, 1,\n",
       "       1, 0, 0, 0, 1, 0, 1, 1, 1, 0, 0, 0, 0, 0, 0, 0, 1, 0, 0, 0, 1, 1,\n",
       "       0, 0, 0, 0, 1, 0, 0, 0, 1, 1, 0, 1, 0, 0, 0, 0, 1, 1, 1, 1, 1, 0,\n",
       "       0, 0, 0, 0, 0, 1, 0, 0, 0, 0, 1, 0, 0, 0, 0, 0, 0, 0, 1, 1, 0, 1,\n",
       "       0, 0, 0, 0, 0, 1, 1, 1, 0, 0, 0, 0, 0, 0, 0, 1, 1, 0, 1, 0, 0, 0,\n",
       "       1, 0, 0, 1, 0, 0, 0, 0, 0, 0, 0, 0, 0, 1, 0, 1, 0, 1, 0, 1, 1, 0,\n",
       "       0, 0, 1, 0, 1, 0, 0, 1, 0, 1, 1, 0, 1, 0, 0, 1, 1, 0, 0, 1, 0, 0,\n",
       "       1, 1, 1, 0, 0, 0, 0, 0, 1, 1, 0, 1, 0, 0, 0, 0, 0, 1, 0, 0, 0, 1,\n",
       "       0, 1, 0, 0, 1, 0, 1, 0, 0, 0, 0, 1, 1, 1, 1, 1, 1, 0, 1, 0, 0, 0])"
      ]
     },
     "execution_count": 29,
     "metadata": {},
     "output_type": "execute_result"
    }
   ],
   "source": [
    "y_sub"
   ]
  },
  {
   "cell_type": "code",
   "execution_count": 30,
   "metadata": {},
   "outputs": [
    {
     "name": "stdout",
     "output_type": "stream",
     "text": [
      "[0.9521531100478469]\n"
     ]
    },
    {
     "data": {
      "image/png": "[encoded data removed]",
      "text/plain": [
       "<Figure size 360x360 with 1 Axes>"
      ]
     },
     "metadata": {
      "needs_background": "light"
     },
     "output_type": "display_data"
    }
   ],
   "source": [
    "gender_submission=pd.read_csv(\"../input/titanic/gender_submission.csv\")\n",
    "y_test=gender_submission['Survived']\n",
    "ac_sub=copy.deepcopy(ac_variable())\n",
    "accurate(y_test,y_sub,ac_sub)\n",
    "print(ac_sub.accuracies)\n",
    "conf(\"lgm conf\",ac_lgb.all_confmat)"
   ]
  },
  {
   "cell_type": "markdown",
   "metadata": {},
   "source": [
    "ｃｓｖ作成"
   ]
  },
  {
   "cell_type": "code",
   "execution_count": 34,
   "metadata": {},
   "outputs": [
    {
     "name": "stdout",
     "output_type": "stream",
     "text": [
      "     Servived\n",
      "0           0\n",
      "1           1\n",
      "2           0\n",
      "3           0\n",
      "4           1\n",
      "..        ...\n",
      "413         0\n",
      "414         1\n",
      "415         0\n",
      "416         0\n",
      "417         0\n",
      "\n",
      "[418 rows x 1 columns]\n"
     ]
    }
   ],
   "source": [
    "df=pd.DataFrame(y_sub)\n",
    "\n",
    "#列名を設定\n",
    "df.columns=['Servived']\n",
    "print(df)\n",
    "\n",
    "df.to_csv('../submission.csv',index=False)"
   ]
  },
  {
   "cell_type": "code",
   "execution_count": null,
   "metadata": {},
   "outputs": [],
   "source": []
  }
 ],
 "metadata": {
  "kernelspec": {
   "display_name": "Python 3",
   "language": "python",
   "name": "python3"
  },
  "language_info": {
   "codemirror_mode": {
    "name": "ipython",
    "version": 3
   },
   "file_extension": ".py",
   "mimetype": "text/x-python",
   "name": "python",
   "nbconvert_exporter": "python",
   "pygments_lexer": "ipython3",
   "version": "3.7.1"
  }
 },
 "nbformat": 4,
 "nbformat_minor": 2
}
