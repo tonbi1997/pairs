{
 "cells": [
  {
   "cell_type": "markdown",
   "metadata": {},
   "source": [
    "# kaggleフォーマット"
   ]
  },
  {
   "cell_type": "code",
   "execution_count": 1,
   "metadata": {},
   "outputs": [],
   "source": [
    "import numpy as np\n",
    "import pandas as pd"
   ]
  },
  {
   "cell_type": "markdown",
   "metadata": {},
   "source": [
    "csvファイル読み込み"
   ]
  },
  {
   "cell_type": "code",
   "execution_count": 2,
   "metadata": {},
   "outputs": [],
   "source": [
    "train=pd.read_csv('../input/titanic/train.csv')\n",
    "test=pd.read_csv('../input/titanic/test.csv')\n",
    "gender_submission=pd.read_csv(\"../input/titanic/gender_submission.csv\")"
   ]
  },
  {
   "cell_type": "code",
   "execution_count": 3,
   "metadata": {},
   "outputs": [
    {
     "data": {
      "text/html": [
       "<div>\n",
       "<style scoped>\n",
       "    .dataframe tbody tr th:only-of-type {\n",
       "        vertical-align: middle;\n",
       "    }\n",
       "\n",
       "    .dataframe tbody tr th {\n",
       "        vertical-align: top;\n",
       "    }\n",
       "\n",
       "    .dataframe thead th {\n",
       "        text-align: right;\n",
       "    }\n",
       "</style>\n",
       "<table border=\"1\" class=\"dataframe\">\n",
       "  <thead>\n",
       "    <tr style=\"text-align: right;\">\n",
       "      <th></th>\n",
       "      <th>PassengerId</th>\n",
       "      <th>Survived</th>\n",
       "    </tr>\n",
       "  </thead>\n",
       "  <tbody>\n",
       "    <tr>\n",
       "      <th>0</th>\n",
       "      <td>892</td>\n",
       "      <td>0</td>\n",
       "    </tr>\n",
       "    <tr>\n",
       "      <th>1</th>\n",
       "      <td>893</td>\n",
       "      <td>1</td>\n",
       "    </tr>\n",
       "    <tr>\n",
       "      <th>2</th>\n",
       "      <td>894</td>\n",
       "      <td>0</td>\n",
       "    </tr>\n",
       "    <tr>\n",
       "      <th>3</th>\n",
       "      <td>895</td>\n",
       "      <td>0</td>\n",
       "    </tr>\n",
       "    <tr>\n",
       "      <th>4</th>\n",
       "      <td>896</td>\n",
       "      <td>1</td>\n",
       "    </tr>\n",
       "  </tbody>\n",
       "</table>\n",
       "</div>"
      ],
      "text/plain": [
       "   PassengerId  Survived\n",
       "0          892         0\n",
       "1          893         1\n",
       "2          894         0\n",
       "3          895         0\n",
       "4          896         1"
      ]
     },
     "execution_count": 3,
     "metadata": {},
     "output_type": "execute_result"
    }
   ],
   "source": [
    "gender_submission.head()"
   ]
  },
  {
   "cell_type": "code",
   "execution_count": 4,
   "metadata": {},
   "outputs": [],
   "source": [
    "data=pd.concat([train,test],sort=False)"
   ]
  },
  {
   "cell_type": "code",
   "execution_count": 5,
   "metadata": {},
   "outputs": [
    {
     "data": {
      "text/plain": [
       "PassengerId       0\n",
       "Survived        418\n",
       "Pclass            0\n",
       "Name              0\n",
       "Sex               0\n",
       "Age             263\n",
       "SibSp             0\n",
       "Parch             0\n",
       "Ticket            0\n",
       "Fare              1\n",
       "Cabin          1014\n",
       "Embarked          2\n",
       "dtype: int64"
      ]
     },
     "execution_count": 5,
     "metadata": {},
     "output_type": "execute_result"
    }
   ],
   "source": [
    "data.isnull().sum()\n"
   ]
  },
  {
   "cell_type": "markdown",
   "metadata": {},
   "source": [
    "データの定量化"
   ]
  },
  {
   "cell_type": "code",
   "execution_count": 6,
   "metadata": {},
   "outputs": [],
   "source": [
    "data['Sex'].replace(['male','female'],[0,1],inplace=True)"
   ]
  },
  {
   "cell_type": "code",
   "execution_count": 7,
   "metadata": {},
   "outputs": [],
   "source": [
    "data['Embarked'].fillna('S',inplace=True)\n",
    "data['Embarked']=data['Embarked'].map({'S':0,'C':1,'Q':2}).astype(int)"
   ]
  },
  {
   "cell_type": "code",
   "execution_count": 8,
   "metadata": {},
   "outputs": [],
   "source": [
    "data['Fare'].fillna(np.mean(data['Fare']),inplace=True)"
   ]
  },
  {
   "cell_type": "code",
   "execution_count": 9,
   "metadata": {},
   "outputs": [],
   "source": [
    "age_avg=data['Age'].mean()\n",
    "age_std=data['Age'].std()\n",
    "data['Age'].fillna(np.random.randint(age_avg-age_std,age_avg+age_std),inplace=True)"
   ]
  },
  {
   "cell_type": "code",
   "execution_count": 10,
   "metadata": {},
   "outputs": [],
   "source": [
    "delete_columns=['Name','PassengerId','Ticket','Cabin']\n",
    "data.drop(delete_columns,axis=1,inplace=True)"
   ]
  },
  {
   "cell_type": "markdown",
   "metadata": {},
   "source": [
    "トレーニングデータとテストデータに戻す"
   ]
  },
  {
   "cell_type": "code",
   "execution_count": 24,
   "metadata": {},
   "outputs": [],
   "source": [
    "train=data[:len(train)]\n",
    "test=data[len(train):]\n",
    "\n",
    "\n",
    "y_train=train['Survived']\n",
    "\n",
    "del train['Survived']\n",
    "x_train=train\n",
    "\n",
    "y_test=gender_submission['Survived']\n",
    "\n",
    "del test['Survived']\n",
    "x_test=test"
   ]
  },
  {
   "cell_type": "code",
   "execution_count": 28,
   "metadata": {},
   "outputs": [],
   "source": [
    "np_x_train=x_train.to_numpy()\n",
    "np_y_train=y_train.to_numpy()\n",
    "np_x_test=x_test.to_numpy()\n",
    "np_y_test=y_test.to_numpy()"
   ]
  },
  {
   "cell_type": "markdown",
   "metadata": {},
   "source": [
    "\n",
    "# 重要度を求める"
   ]
  },
  {
   "cell_type": "code",
   "execution_count": 33,
   "metadata": {},
   "outputs": [],
   "source": [
    "from sklearn.ensemble import RandomForestClassifier\n",
    "\n",
    "feat_labels=x_train.columns[:]\n",
    "forest=RandomForestClassifier(n_estimators=10000,random_state=0,n_jobs=-1)\n",
    "#モデルの適合\n",
    "forest.fit(x_train,y_train)\n",
    "importances=forest.feature_importances_\n",
    "#重要度の降順で特徴量のインデックスを抽出\n",
    "indices=np.argsort(importances)[::-1]"
   ]
  },
  {
   "cell_type": "code",
   "execution_count": 43,
   "metadata": {},
   "outputs": [
    {
     "name": "stdout",
     "output_type": "stream",
     "text": [
      " 1) Fare                           0.271168\n",
      " 2) Sex                            0.262013\n",
      " 3) Age                            0.259207\n",
      " 4) Pclass                         0.086831\n",
      " 5) SibSp                          0.049451\n",
      " 6) Parch                          0.038372\n",
      " 7) Embarked                       0.032959\n"
     ]
    },
    {
     "data": {
      "image/png": "[encoded data removed]",
      "text/plain": [
       "<Figure size 432x288 with 1 Axes>"
      ]
     },
     "metadata": {
      "needs_background": "light"
     },
     "output_type": "display_data"
    }
   ],
   "source": [
    "import matplotlib.pyplot as plt\n",
    "#重要度を降順で表示\n",
    "for f in range(np_x_train.shape[1]):\n",
    "    print(\"%2d) %-*s %f\"%(f+1,30,\n",
    "                         feat_labels[indices[f]],\n",
    "                         importances[indices[f]]))\n",
    "plt.title('Feature Importances')\n",
    "plt.bar(range(np_x_train.shape[1]),\n",
    "      importances[indices],\n",
    "      color='lightblue',\n",
    "      align='center')\n",
    "plt.xticks(range(np_x_train.shape[1]),\n",
    "          feat_labels[indices],rotation=90)\n",
    "plt.xlim([-1,np_x_train.shape[1]])\n",
    "plt.tight_layout()\n",
    "plt.show()"
   ]
  },
  {
   "cell_type": "markdown",
   "metadata": {},
   "source": [
    "重要度が低い特徴量を削除する"
   ]
  },
  {
   "cell_type": "code",
   "execution_count": 44,
   "metadata": {},
   "outputs": [],
   "source": [
    "sita=0.05\n",
    "\n",
    "feature_list=list(feat_labels[indices[:]].values.flatten())\n",
    "importance_list=list(importances[indices[:]])\n",
    "\n",
    "new_train=train\n",
    "new_test=test\n",
    "for i in range(len(train.columns)):\n",
    "    if importance_list[i]<sita:\n",
    "        del new_train[feature_list[i]]\n",
    "        del new_test[feature_list[i]]\n",
    "        \n"
   ]
  },
  {
   "cell_type": "code",
   "execution_count": 46,
   "metadata": {},
   "outputs": [],
   "source": [
    "x_train=train\n",
    "x_test=test\n",
    "\n",
    "np_x_train=x_train.to_numpy()\n",
    "np_x_test=x_test.to_numpy()"
   ]
  },
  {
   "cell_type": "code",
   "execution_count": 49,
   "metadata": {},
   "outputs": [],
   "source": [
    "from sklearn.model_selection import StratifiedKFold\n",
    "from sklearn.svm import SVC\n",
    "from sklearn.metrics import accuracy_score\n",
    "from sklearn.metrics import precision_recall_fscore_support\n",
    "from sklearn.preprocessing import StandardScaler\n",
    "from sklearn.metrics import confusion_matrix\n",
    "import matplotlib.pyplot as plt\n",
    "import csv\n",
    "from sklearn.model_selection import GroupKFold,GridSearchCV\n"
   ]
  },
  {
   "cell_type": "code",
   "execution_count": 50,
   "metadata": {},
   "outputs": [
    {
     "name": "stderr",
     "output_type": "stream",
     "text": [
      "D:\\masa\\Anaconda3\\lib\\site-packages\\sklearn\\preprocessing\\data.py:625: DataConversionWarning: Data with input dtype int64, float64 were all converted to float64 by StandardScaler.\n",
      "  return self.partial_fit(X, y)\n",
      "D:\\masa\\Anaconda3\\lib\\site-packages\\sklearn\\base.py:462: DataConversionWarning: Data with input dtype int64, float64 were all converted to float64 by StandardScaler.\n",
      "  return self.fit(X, **fit_params).transform(X)\n",
      "D:\\masa\\Anaconda3\\lib\\site-packages\\sklearn\\preprocessing\\data.py:625: DataConversionWarning: Data with input dtype int64, float64 were all converted to float64 by StandardScaler.\n",
      "  return self.partial_fit(X, y)\n",
      "D:\\masa\\Anaconda3\\lib\\site-packages\\sklearn\\base.py:462: DataConversionWarning: Data with input dtype int64, float64 were all converted to float64 by StandardScaler.\n",
      "  return self.fit(X, **fit_params).transform(X)\n"
     ]
    }
   ],
   "source": [
    "#標準化\n",
    "#stdsc=StandardScaler()\n",
    "#x_train=stdsc.fit_transform(x_train)\n",
    "#x_test=stdsc.fit_transform(x_test)"
   ]
  },
  {
   "cell_type": "markdown",
   "metadata": {},
   "source": [
    "混合行列を作る関数"
   ]
  },
  {
   "cell_type": "code",
   "execution_count": 54,
   "metadata": {},
   "outputs": [],
   "source": [
    "def conf(name,confmat):\n",
    "    flg,ax=plt.subplots(figsize=(5,5))\n",
    "    ax.matshow(confmat,cmap=plt.cm.Blues,alpha=0.3)\n",
    "    ax.tick_params(labelsize=14)\n",
    "    for i in range(confmat.shape[1]):\n",
    "        for j in range(confmat.shape[1]):\n",
    "            ax.ext(x=j,y=i,s=confmat[i,j],va='center',ha='center',fontsize=14)\n",
    "    plt.xlabel('predicted label',fontsize=14)\n",
    "    plt.ylabel('true label',fontsize=14)\n",
    "    plt.savefig(name)\n",
    "    "
   ]
  },
  {
   "cell_type": "code",
   "execution_count": null,
   "metadata": {},
   "outputs": [],
   "source": []
  },
  {
   "cell_type": "markdown",
   "metadata": {},
   "source": [
    "# ロジスティック回帰"
   ]
  },
  {
   "cell_type": "code",
   "execution_count": null,
   "metadata": {},
   "outputs": [],
   "source": []
  },
  {
   "cell_type": "code",
   "execution_count": null,
   "metadata": {},
   "outputs": [],
   "source": [
    "from sklearn.linear_model import LogisticRegression\n",
    "\n",
    "clf=LogisticRegression(penalty='l2',solver='sag',random_state=0)\n",
    "clf.fit(X_train,y_train)\n",
    "y_pred=clf.predict(X_test)\n"
   ]
  },
  {
   "cell_type": "code",
   "execution_count": null,
   "metadata": {},
   "outputs": [],
   "source": [
    "sub=pd.read_csv('../input/titanic/gender_submission.csv')\n",
    "sub['Survived']=list(map(int,y_pred))"
   ]
  },
  {
   "cell_type": "code",
   "execution_count": null,
   "metadata": {},
   "outputs": [],
   "source": [
    "import pandas as pd\n",
    "import pandas_profiling\n",
    "\n",
    "train=pd.read_csv('../input/titanic/train.csv')\n",
    "#train.profile_report()"
   ]
  },
  {
   "cell_type": "code",
   "execution_count": null,
   "metadata": {},
   "outputs": [],
   "source": [
    "import matplotlib.pyplot as plt\n",
    "import seaborn as sns\n"
   ]
  },
  {
   "cell_type": "code",
   "execution_count": null,
   "metadata": {},
   "outputs": [],
   "source": [
    "plt.hist(train.loc[train['Survived']==0,'Age'].dropna(),bins=30,alpha=0.5,label='0')\n",
    "plt.hist(train.loc[train['Survived']==1,'Age'].dropna(),bins=30,alpha=0.5,label='1')\n",
    "plt.xlabel('Age')\n",
    "plt.ylabel('count')\n",
    "plt.legend(title='Survived')"
   ]
  },
  {
   "cell_type": "code",
   "execution_count": null,
   "metadata": {},
   "outputs": [],
   "source": [
    "sns.countplot(x='SibSp',hue='Survived',data=train)\n",
    "plt.legend(loc='upper right',title='Survived')"
   ]
  },
  {
   "cell_type": "code",
   "execution_count": null,
   "metadata": {},
   "outputs": [],
   "source": [
    "sns.countplot(x='Parch',hue='Survived',data=train)\n",
    "plt.legend(loc='upper right',title='Survived')"
   ]
  },
  {
   "cell_type": "code",
   "execution_count": null,
   "metadata": {},
   "outputs": [],
   "source": [
    "plt.hist(train.loc[train['Survived']==0,'Fare'].dropna(),\n",
    "        range=(0,250),bins=25,alpha=0.5,label='0')\n",
    "plt.hist(train.loc[train['Survived']==1,'Fare'].dropna(),\n",
    "         range=(0,250),bins=25,alpha=0.5,label='1')\n",
    "plt.xlabel('Fare')\n",
    "plt.ylabel('count')\n",
    "plt.legend(title='Survived')\n",
    "plt.xlim(-5,250)\n",
    "         "
   ]
  },
  {
   "cell_type": "code",
   "execution_count": null,
   "metadata": {},
   "outputs": [],
   "source": [
    "sns.countplot(x='Pclass',hue='Survived',data=train)"
   ]
  },
  {
   "cell_type": "code",
   "execution_count": null,
   "metadata": {},
   "outputs": [],
   "source": [
    "sns.countplot(x='Sex',hue='Survived',data=train)"
   ]
  },
  {
   "cell_type": "code",
   "execution_count": null,
   "metadata": {},
   "outputs": [],
   "source": [
    "sns.countplot(x='Embarked',hue='Survived',data=train)"
   ]
  },
  {
   "cell_type": "code",
   "execution_count": null,
   "metadata": {},
   "outputs": [],
   "source": [
    "data['FamilySize']=data['Parch']+data['SibSp']+1\n",
    "train['FamilySize']=data['FamilySize'][:len(train)]\n",
    "test['FamilySize']=data['FamilySize'][len(train):]\n",
    "sns.countplot(x='FamilySize',data=train,hue='Survived')"
   ]
  },
  {
   "cell_type": "code",
   "execution_count": null,
   "metadata": {},
   "outputs": [],
   "source": [
    "X_train"
   ]
  },
  {
   "cell_type": "code",
   "execution_count": null,
   "metadata": {},
   "outputs": [],
   "source": [
    "import lightgbm as lgb"
   ]
  },
  {
   "cell_type": "code",
   "execution_count": null,
   "metadata": {},
   "outputs": [],
   "source": [
    "from sklearn.model_selection import KFold\n",
    "\n",
    "y_preds=[]\n",
    "models=[]\n",
    "oof_train=np.zeros((len(X_train),))\n",
    "cv=KFold(n_splits=5,shuffle=True,random_state=0)\n",
    "\n",
    "categorical_features=['Embarked','Pclass','Sex']\n",
    "\n",
    "params={\n",
    "    'objective':'binary',\n",
    "    'max_bin':300,\n",
    "    'learning_rate':0.05,\n",
    "    'num_leaves':40\n",
    "}\n",
    "\n",
    "for fold_id,(train_index,valid_index) in enumerate(cv.split(X_train)):\n",
    "    X_tr=X_train.loc[train_index,:]\n",
    "    X_val=X_train.loc[valid_index,:]\n",
    "    y_tr=y_train[train_index]\n",
    "    y_val=y_train[valid_index]\n",
    "    lgb_train=lgb.Dataset(X_tr,y_tr,\n",
    "                          categorical_feature=categorical_features)\n",
    "    lgb_eval=lgb.Dataset(X_val,y_val,reference=lgb_train,\n",
    "                         categorical_feature=categorical_features)\n",
    "    model=lgb.train(params,lgb_train,\n",
    "                    valid_sets=[lgb_train,lgb_eval],\n",
    "                    verbose_eval=10,\n",
    "                    num_boost_round=1000,\n",
    "                    early_stopping_rounds=10)\n",
    "    oof_train[valid_index]=model.predict(X_val,num_iteration=model.best_iteration)\n",
    "    y_preds.append(y_pred)\n",
    "    models.append(model)\n",
    "              \n",
    "                          "
   ]
  },
  {
   "cell_type": "code",
   "execution_count": null,
   "metadata": {},
   "outputs": [],
   "source": [
    "model"
   ]
  },
  {
   "cell_type": "code",
   "execution_count": null,
   "metadata": {},
   "outputs": [],
   "source": [
    "pd.DataFrame(oof_train).to_csv('oof_train_kfold.csv',index=False)"
   ]
  },
  {
   "cell_type": "code",
   "execution_count": null,
   "metadata": {},
   "outputs": [],
   "source": [
    "scores={\n",
    "    m.best_score['valid_1']['binary_logloss'] for m in models\n",
    "}\n",
    "score=sum(scores)/len(scores)\n",
    "print('==CV scores==')\n",
    "print(scores)\n",
    "print(score)"
   ]
  },
  {
   "cell_type": "code",
   "execution_count": null,
   "metadata": {},
   "outputs": [],
   "source": [
    "from sklearn.metrics import accuracy_score\n",
    "\n",
    "y_pred_oof=(oof_train>0.5).astype(int)\n",
    "accuracy_score(y_train,y_pred_oof)"
   ]
  },
  {
   "cell_type": "code",
   "execution_count": null,
   "metadata": {},
   "outputs": [],
   "source": [
    "len(y_preds)"
   ]
  },
  {
   "cell_type": "code",
   "execution_count": null,
   "metadata": {},
   "outputs": [],
   "source": [
    "y_preds[0][:10]"
   ]
  },
  {
   "cell_type": "code",
   "execution_count": null,
   "metadata": {},
   "outputs": [],
   "source": [
    "y_sub=sum(y_preds)/len(y_preds)\n",
    "y_sub=(y_sub>0.5).astype(int)"
   ]
  },
  {
   "cell_type": "markdown",
   "metadata": {},
   "source": [
    "ランダムフォレスト結果"
   ]
  },
  {
   "cell_type": "code",
   "execution_count": null,
   "metadata": {},
   "outputs": [],
   "source": [
    "y_sub"
   ]
  },
  {
   "cell_type": "code",
   "execution_count": null,
   "metadata": {},
   "outputs": [],
   "source": [
    "from sklearn.model_selection import KFold\n",
    "\n",
    "cv=KFold(n_splits=5,shuffle=True,random_state=0)\n",
    "for fold_id,(train_index,valid_index) in enumerate(cv.split(X_train)):\n",
    "    X_tr=X_train.loc[train_index,:]\n",
    "    X_val=X_train.loc[valid_index,:]\n",
    "    y_tr=y_train[train_index]\n",
    "    y_val=y_train[valid_index]\n",
    "    \n",
    "    print(f'fold_id:{fold_id}')\n",
    "    print(f'y_tr y== rate:{sum(y_tr)/len(y_tr)}')\n",
    "    print(f'y_val==1 rate:{sum(y_val)/len(y_val)}')"
   ]
  },
  {
   "cell_type": "code",
   "execution_count": null,
   "metadata": {},
   "outputs": [],
   "source": [
    "from sklearn.model_selection import StratifiedKFold\n",
    "\n",
    "cv=StratifiedKFold(n_splits=5,shuffle=True,random_state=0)\n",
    "validation_list=[]\n",
    "for fold_id,(train_index,valid_index) in enumerate (cv.split(X_train,y_train)):\n",
    "    X_tr=X_train.loc[train_index,:]\n",
    "    X_val=X_train.loc[valid_index,:]\n",
    "    y_tr=y_train[train_index]\n",
    "    y_val=y_train[valid_index]\n",
    "    \n",
    "    print(f'fold_id:{fold_id}')\n",
    "    print(f'y_tr y==1 rate:{sum(y_tr/len(y_tr))}')\n",
    "    print(f'y_val y==1 rate:{sum(y_val)/len(y_val)}')\n"
   ]
  },
  {
   "cell_type": "code",
   "execution_count": null,
   "metadata": {},
   "outputs": [],
   "source": [
    "y_sub_csv = pd.read_csv('../input/titanic/gender_submission.csv')\n",
    "y_sub_csv['Survived'] = y_sub\n",
    "y_sub_csv"
   ]
  },
  {
   "cell_type": "code",
   "execution_count": null,
   "metadata": {},
   "outputs": [],
   "source": [
    "pd.DataFrame(y_sub_csv).to_csv('submit001.csv',index=False)"
   ]
  },
  {
   "cell_type": "code",
   "execution_count": null,
   "metadata": {},
   "outputs": [],
   "source": [
    "sub = pd.read_csv('../input/titanic/gender_submission.csv')"
   ]
  },
  {
   "cell_type": "code",
   "execution_count": null,
   "metadata": {},
   "outputs": [],
   "source": [
    "from sklearn.metrics import confusion_matrix\n",
    "sub = pd.read_csv('../input/titanic/gender_submission.csv')\n",
    "sub_pred=y_sub_csv['Survived']\n",
    "sub_true=sub['Survived']\n",
    "cm=confusion_matrix(sub_true,sub_pred)\n",
    "print(cm)\n",
    "\n",
    "accuracy=(cm[0][0]+cm[1][1])/(cm[0][0]+cm[0][1]+cm[1][0]+cm[1][1])\n",
    "print(str(accuracy)+\"%\")"
   ]
  },
  {
   "cell_type": "code",
   "execution_count": null,
   "metadata": {},
   "outputs": [],
   "source": []
  }
 ],
 "metadata": {
  "kernelspec": {
   "display_name": "Python 3",
   "language": "python",
   "name": "python3"
  },
  "language_info": {
   "codemirror_mode": {
    "name": "ipython",
    "version": 3
   },
   "file_extension": ".py",
   "mimetype": "text/x-python",
   "name": "python",
   "nbconvert_exporter": "python",
   "pygments_lexer": "ipython3",
   "version": "3.7.1"
  }
 },
 "nbformat": 4,
 "nbformat_minor": 2
}
