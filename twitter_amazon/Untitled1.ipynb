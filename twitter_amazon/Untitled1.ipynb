{
 "cells": [
  {
   "cell_type": "code",
   "execution_count": 2,
   "metadata": {},
   "outputs": [
    {
     "name": "stdout",
     "output_type": "stream",
     "text": [
      "User(_api=<tweepy.api.API object at 0x00000131E1129C88>, _json={'id': 130671401, 'id_str': '130671401', 'name': '楽天市場', 'screen_name': 'RakutenJP', 'location': 'Tokyo, Japan', 'profile_location': None, 'description': '楽天市場の公式アカウントです😆セール情報、ユニークな商品や、楽天のいろいろなサービスをご紹介❣️お急ぎの質問や調査が必要なお問合せは https://t.co/oaMjTkOqFB までお願いします。Shopping is Entertainment!', 'url': None, 'entities': {'description': {'urls': [{'url': 'https://t.co/oaMjTkOqFB', 'expanded_url': 'https://r10.to/hl5bd1', 'display_url': 'r10.to/hl5bd1', 'indices': [67, 90]}]}}, 'protected': False, 'followers_count': 1157097, 'friends_count': 50905, 'listed_count': 4426, 'created_at': 'Wed Apr 07 23:56:08 +0000 2010', 'favourites_count': 9451, 'utc_offset': None, 'time_zone': None, 'geo_enabled': False, 'verified': True, 'statuses_count': 61030, 'lang': None, 'status': {'created_at': 'Wed Jul 22 09:00:20 +0000 2020', 'id': 1285862230630817793, 'id_str': '1285862230630817793', 'text': '＼今すぐチャレンジ！✊✨／ \\n1日1回チャレンジできるジャンケンに勝利してポイントゲット！\\n貯めたポイントは街でのお買い物や楽天グループで使える🍀 \\nいますぐエントリー▶https://t.co/RURMNgiwwx https://t.co/c8RwMrjtEP', 'truncated': False, 'entities': {'hashtags': [], 'symbols': [], 'user_mentions': [], 'urls': [{'url': 'https://t.co/RURMNgiwwx', 'expanded_url': 'https://r10.to/hlfdEB', 'display_url': 'r10.to/hlfdEB', 'indices': [85, 108]}], 'media': [{'id': 1285862226038075392, 'id_str': '1285862226038075392', 'indices': [109, 132], 'media_url': 'http://pbs.twimg.com/media/EdhM4b0XsAACrYl.png', 'media_url_https': 'https://pbs.twimg.com/media/EdhM4b0XsAACrYl.png', 'url': 'https://t.co/c8RwMrjtEP', 'display_url': 'pic.twitter.com/c8RwMrjtEP', 'expanded_url': 'https://twitter.com/RakutenJP/status/1285862230630817793/photo/1', 'type': 'photo', 'sizes': {'large': {'w': 800, 'h': 418, 'resize': 'fit'}, 'small': {'w': 680, 'h': 355, 'resize': 'fit'}, 'medium': {'w': 800, 'h': 418, 'resize': 'fit'}, 'thumb': {'w': 150, 'h': 150, 'resize': 'crop'}}}]}, 'extended_entities': {'media': [{'id': 1285862226038075392, 'id_str': '1285862226038075392', 'indices': [109, 132], 'media_url': 'http://pbs.twimg.com/media/EdhM4b0XsAACrYl.png', 'media_url_https': 'https://pbs.twimg.com/media/EdhM4b0XsAACrYl.png', 'url': 'https://t.co/c8RwMrjtEP', 'display_url': 'pic.twitter.com/c8RwMrjtEP', 'expanded_url': 'https://twitter.com/RakutenJP/status/1285862230630817793/photo/1', 'type': 'photo', 'sizes': {'large': {'w': 800, 'h': 418, 'resize': 'fit'}, 'small': {'w': 680, 'h': 355, 'resize': 'fit'}, 'medium': {'w': 800, 'h': 418, 'resize': 'fit'}, 'thumb': {'w': 150, 'h': 150, 'resize': 'crop'}}}]}, 'source': '<a href=\"http://www.salesforce.com\" rel=\"nofollow\">Salesforce - Social Studio</a>', 'in_reply_to_status_id': None, 'in_reply_to_status_id_str': None, 'in_reply_to_user_id': None, 'in_reply_to_user_id_str': None, 'in_reply_to_screen_name': None, 'geo': None, 'coordinates': None, 'place': None, 'contributors': None, 'is_quote_status': False, 'retweet_count': 19, 'favorite_count': 70, 'favorited': False, 'retweeted': False, 'possibly_sensitive': False, 'lang': 'ja'}, 'contributors_enabled': False, 'is_translator': False, 'is_translation_enabled': False, 'profile_background_color': '000000', 'profile_background_image_url': 'http://abs.twimg.com/images/themes/theme1/bg.png', 'profile_background_image_url_https': 'https://abs.twimg.com/images/themes/theme1/bg.png', 'profile_background_tile': False, 'profile_image_url': 'http://pbs.twimg.com/profile_images/1046580603078864896/siehi3PY_normal.jpg', 'profile_image_url_https': 'https://pbs.twimg.com/profile_images/1046580603078864896/siehi3PY_normal.jpg', 'profile_banner_url': 'https://pbs.twimg.com/profile_banners/130671401/1554971341', 'profile_link_color': 'BF0000', 'profile_sidebar_border_color': '000000', 'profile_sidebar_fill_color': '000000', 'profile_text_color': '000000', 'profile_use_background_image': False, 'has_extended_profile': False, 'default_profile': False, 'default_profile_image': False, 'following': True, 'follow_request_sent': False, 'notifications': False, 'translator_type': 'regular'}, id=130671401, id_str='130671401', name='楽天市場', screen_name='RakutenJP', location='Tokyo, Japan', profile_location=None, description='楽天市場の公式アカウントです😆セール情報、ユニークな商品や、楽天のいろいろなサービスをご紹介❣️お急ぎの質問や調査が必要なお問合せは https://t.co/oaMjTkOqFB までお願いします。Shopping is Entertainment!', url=None, entities={'description': {'urls': [{'url': 'https://t.co/oaMjTkOqFB', 'expanded_url': 'https://r10.to/hl5bd1', 'display_url': 'r10.to/hl5bd1', 'indices': [67, 90]}]}}, protected=False, followers_count=1157097, friends_count=50905, listed_count=4426, created_at=datetime.datetime(2010, 4, 7, 23, 56, 8), favourites_count=9451, utc_offset=None, time_zone=None, geo_enabled=False, verified=True, statuses_count=61030, lang=None, status=Status(_api=<tweepy.api.API object at 0x00000131E1129C88>, _json={'created_at': 'Wed Jul 22 09:00:20 +0000 2020', 'id': 1285862230630817793, 'id_str': '1285862230630817793', 'text': '＼今すぐチャレンジ！✊✨／ \\n1日1回チャレンジできるジャンケンに勝利してポイントゲット！\\n貯めたポイントは街でのお買い物や楽天グループで使える🍀 \\nいますぐエントリー▶https://t.co/RURMNgiwwx https://t.co/c8RwMrjtEP', 'truncated': False, 'entities': {'hashtags': [], 'symbols': [], 'user_mentions': [], 'urls': [{'url': 'https://t.co/RURMNgiwwx', 'expanded_url': 'https://r10.to/hlfdEB', 'display_url': 'r10.to/hlfdEB', 'indices': [85, 108]}], 'media': [{'id': 1285862226038075392, 'id_str': '1285862226038075392', 'indices': [109, 132], 'media_url': 'http://pbs.twimg.com/media/EdhM4b0XsAACrYl.png', 'media_url_https': 'https://pbs.twimg.com/media/EdhM4b0XsAACrYl.png', 'url': 'https://t.co/c8RwMrjtEP', 'display_url': 'pic.twitter.com/c8RwMrjtEP', 'expanded_url': 'https://twitter.com/RakutenJP/status/1285862230630817793/photo/1', 'type': 'photo', 'sizes': {'large': {'w': 800, 'h': 418, 'resize': 'fit'}, 'small': {'w': 680, 'h': 355, 'resize': 'fit'}, 'medium': {'w': 800, 'h': 418, 'resize': 'fit'}, 'thumb': {'w': 150, 'h': 150, 'resize': 'crop'}}}]}, 'extended_entities': {'media': [{'id': 1285862226038075392, 'id_str': '1285862226038075392', 'indices': [109, 132], 'media_url': 'http://pbs.twimg.com/media/EdhM4b0XsAACrYl.png', 'media_url_https': 'https://pbs.twimg.com/media/EdhM4b0XsAACrYl.png', 'url': 'https://t.co/c8RwMrjtEP', 'display_url': 'pic.twitter.com/c8RwMrjtEP', 'expanded_url': 'https://twitter.com/RakutenJP/status/1285862230630817793/photo/1', 'type': 'photo', 'sizes': {'large': {'w': 800, 'h': 418, 'resize': 'fit'}, 'small': {'w': 680, 'h': 355, 'resize': 'fit'}, 'medium': {'w': 800, 'h': 418, 'resize': 'fit'}, 'thumb': {'w': 150, 'h': 150, 'resize': 'crop'}}}]}, 'source': '<a href=\"http://www.salesforce.com\" rel=\"nofollow\">Salesforce - Social Studio</a>', 'in_reply_to_status_id': None, 'in_reply_to_status_id_str': None, 'in_reply_to_user_id': None, 'in_reply_to_user_id_str': None, 'in_reply_to_screen_name': None, 'geo': None, 'coordinates': None, 'place': None, 'contributors': None, 'is_quote_status': False, 'retweet_count': 19, 'favorite_count': 70, 'favorited': False, 'retweeted': False, 'possibly_sensitive': False, 'lang': 'ja'}, created_at=datetime.datetime(2020, 7, 22, 9, 0, 20), id=1285862230630817793, id_str='1285862230630817793', text='＼今すぐチャレンジ！✊✨／ \\n1日1回チャレンジできるジャンケンに勝利してポイントゲット！\\n貯めたポイントは街でのお買い物や楽天グループで使える🍀 \\nいますぐエントリー▶https://t.co/RURMNgiwwx https://t.co/c8RwMrjtEP', truncated=False, entities={'hashtags': [], 'symbols': [], 'user_mentions': [], 'urls': [{'url': 'https://t.co/RURMNgiwwx', 'expanded_url': 'https://r10.to/hlfdEB', 'display_url': 'r10.to/hlfdEB', 'indices': [85, 108]}], 'media': [{'id': 1285862226038075392, 'id_str': '1285862226038075392', 'indices': [109, 132], 'media_url': 'http://pbs.twimg.com/media/EdhM4b0XsAACrYl.png', 'media_url_https': 'https://pbs.twimg.com/media/EdhM4b0XsAACrYl.png', 'url': 'https://t.co/c8RwMrjtEP', 'display_url': 'pic.twitter.com/c8RwMrjtEP', 'expanded_url': 'https://twitter.com/RakutenJP/status/1285862230630817793/photo/1', 'type': 'photo', 'sizes': {'large': {'w': 800, 'h': 418, 'resize': 'fit'}, 'small': {'w': 680, 'h': 355, 'resize': 'fit'}, 'medium': {'w': 800, 'h': 418, 'resize': 'fit'}, 'thumb': {'w': 150, 'h': 150, 'resize': 'crop'}}}]}, extended_entities={'media': [{'id': 1285862226038075392, 'id_str': '1285862226038075392', 'indices': [109, 132], 'media_url': 'http://pbs.twimg.com/media/EdhM4b0XsAACrYl.png', 'media_url_https': 'https://pbs.twimg.com/media/EdhM4b0XsAACrYl.png', 'url': 'https://t.co/c8RwMrjtEP', 'display_url': 'pic.twitter.com/c8RwMrjtEP', 'expanded_url': 'https://twitter.com/RakutenJP/status/1285862230630817793/photo/1', 'type': 'photo', 'sizes': {'large': {'w': 800, 'h': 418, 'resize': 'fit'}, 'small': {'w': 680, 'h': 355, 'resize': 'fit'}, 'medium': {'w': 800, 'h': 418, 'resize': 'fit'}, 'thumb': {'w': 150, 'h': 150, 'resize': 'crop'}}}]}, source='Salesforce - Social Studio', source_url='http://www.salesforce.com', in_reply_to_status_id=None, in_reply_to_status_id_str=None, in_reply_to_user_id=None, in_reply_to_user_id_str=None, in_reply_to_screen_name=None, geo=None, coordinates=None, place=None, contributors=None, is_quote_status=False, retweet_count=19, favorite_count=70, favorited=False, retweeted=False, possibly_sensitive=False, lang='ja'), contributors_enabled=False, is_translator=False, is_translation_enabled=False, profile_background_color='000000', profile_background_image_url='http://abs.twimg.com/images/themes/theme1/bg.png', profile_background_image_url_https='https://abs.twimg.com/images/themes/theme1/bg.png', profile_background_tile=False, profile_image_url='http://pbs.twimg.com/profile_images/1046580603078864896/siehi3PY_normal.jpg', profile_image_url_https='https://pbs.twimg.com/profile_images/1046580603078864896/siehi3PY_normal.jpg', profile_banner_url='https://pbs.twimg.com/profile_banners/130671401/1554971341', profile_link_color='BF0000', profile_sidebar_border_color='000000', profile_sidebar_fill_color='000000', profile_text_color='000000', profile_use_background_image=False, has_extended_profile=False, default_profile=False, default_profile_image=False, following=True, follow_request_sent=False, notifications=False, translator_type='regular')\n"
     ]
    }
   ],
   "source": [
    "import tweepy\n",
    "import const\n",
    "from Twitter import Twitter\n",
    "\n",
    "api = Twitter().getApi()\n",
    "user=api.get_user(screen_name=\"RakutenJP\")\n",
    "print(user)"
   ]
  },
  {
   "cell_type": "code",
   "execution_count": null,
   "metadata": {},
   "outputs": [],
   "source": []
  }
 ],
 "metadata": {
  "kernelspec": {
   "display_name": "Python 3",
   "language": "python",
   "name": "python3"
  },
  "language_info": {
   "codemirror_mode": {
    "name": "ipython",
    "version": 3
   },
   "file_extension": ".py",
   "mimetype": "text/x-python",
   "name": "python",
   "nbconvert_exporter": "python",
   "pygments_lexer": "ipython3",
   "version": "3.7.6"
  },
  "varInspector": {
   "cols": {
    "lenName": 16,
    "lenType": 16,
    "lenVar": 40
   },
   "kernels_config": {
    "python": {
     "delete_cmd_postfix": "",
     "delete_cmd_prefix": "del ",
     "library": "var_list.py",
     "varRefreshCmd": "print(var_dic_list())"
    },
    "r": {
     "delete_cmd_postfix": ") ",
     "delete_cmd_prefix": "rm(",
     "library": "var_list.r",
     "varRefreshCmd": "cat(var_dic_list()) "
    }
   },
   "types_to_exclude": [
    "module",
    "function",
    "builtin_function_or_method",
    "instance",
    "_Feature"
   ],
   "window_display": true
  }
 },
 "nbformat": 4,
 "nbformat_minor": 4
}
