{
 "cells": [
  {
   "cell_type": "code",
   "execution_count": 1,
   "metadata": {},
   "outputs": [],
   "source": [
    "from selenium import webdriver\n",
    "import time\n",
    "import random\n",
    "from selenium.webdriver.common.action_chains import ActionChains\n",
    "from selenium.webdriver.common.keys import Keys\n",
    "from selenium.webdriver.support.ui import WebDriverWait\n",
    "from selenium.webdriver.chrome.options import Options\n",
    "from selenium.webdriver.common.desired_capabilities import DesiredCapabilities"
   ]
  },
  {
   "cell_type": "code",
   "execution_count": 2,
   "metadata": {},
   "outputs": [],
   "source": [
    "#chrome起動\n",
    "class Chro:\n",
    "    def __init__(self):\n",
    "        self.options = Options()\n",
    "        #options.add_argument('--headless')\n",
    "        #options.add_argument('--disable-gpu')\n",
    "        self.options.add_argument('--no-sandbox')\n",
    "        self.options.set_headless(False)\n",
    "        self.capabilities = DesiredCapabilities.CHROME.copy()\n",
    "        self.capabilities['acceptInsecureCerts'] = True\n",
    "        \n",
    "    def chrome(self):\n",
    "        self.chro =  webdriver.Chrome(options=self.options, desired_capabilities=self.capabilities)\n",
    "        return self.chro"
   ]
  },
  {
   "cell_type": "code",
   "execution_count": 3,
   "metadata": {},
   "outputs": [],
   "source": [
    "#タイムセール情報取得\n",
    "def getSale(chro):  \n",
    "    element=chro.find_element_by_xpath('//*[@id=\"six_timesale\"]/div[2]/div/div/div/ul['+str(i)+']/li['+str(j)+']')\n",
    "\n",
    "    #クリック前のハンドルリスト\n",
    "    handles_befor =chro.window_handles\n",
    "\n",
    "    #(リンク)要素を新しいタブで開く\n",
    "    actions = ActionChains(chro)\n",
    "\n",
    "    #Mac以外なのでコントロールキー\n",
    "    actions.key_down(Keys.CONTROL)\n",
    "    actions.click(element)\n",
    "    actions.perform()\n",
    "\n",
    "    #クリック後のハンドルリスト\n",
    "    handles_after = chro.window_handles\n",
    "\n",
    "    #ハンドルリストの差分\n",
    "    handle_new = list(set(handles_after) - set(handles_befor))\n",
    "\n",
    "    #新しいタブに移動\n",
    "    chro.switch_to.window(handle_new[0])\n",
    "\n",
    "    print(chro.current_url)\n",
    "    url=chro.current_url\n",
    "    \n",
    "    chro.close()\n",
    "\n",
    "    chro.switch_to.window(chro.window_handles[0]) \n",
    "    return str(url)"
   ]
  },
  {
   "cell_type": "code",
   "execution_count": 4,
   "metadata": {},
   "outputs": [
    {
     "name": "stderr",
     "output_type": "stream",
     "text": [
      "d:\\masa\\anaconda3\\lib\\site-packages\\ipykernel_launcher.py:8: DeprecationWarning: use setter for headless property instead of set_headless\n",
      "  \n"
     ]
    },
    {
     "name": "stdout",
     "output_type": "stream",
     "text": [
      "https://item.rakuten.co.jp/optimallife/30000002/\n",
      "https://item.rakuten.co.jp/shiny-mart/t425-1/\n",
      "https://item.rakuten.co.jp/a-cueb/acmask10/\n",
      "https://item.rakuten.co.jp/sugarbiscuit/lgww-at3622/\n",
      "https://item.rakuten.co.jp/g-fulabo/culo_balm_set001/\n",
      "miss\n",
      "https://item.rakuten.co.jp/optimallife/30000002/\n",
      "https://item.rakuten.co.jp/akarie/522498/\n",
      "https://item.rakuten.co.jp/stripe-club/a1cc00005yta/\n",
      "https://item.rakuten.co.jp/la-gemme/lgww-at3631/\n",
      "https://item.rakuten.co.jp/span-d2c/b166/\n",
      "https://item.rakuten.co.jp/kadenrand/274549/\n"
     ]
    }
   ],
   "source": [
    "\n",
    "breakFlg=False\n",
    "hrefList=[]\n",
    "chro=Chro().chrome()\n",
    "chro.get('https://event.rakuten.co.jp/bargain/timesale/')\n",
    "for i in range(1,5):\n",
    "    for j in range(1,4):\n",
    "        try:\n",
    "            hrefList.append(getSale(chro))\n",
    "        except:\n",
    "            try:\n",
    "                hrefList.append(getSale(chro))\n",
    "            except:\n",
    "                print('miss')"
   ]
  },
  {
   "cell_type": "code",
   "execution_count": 5,
   "metadata": {},
   "outputs": [],
   "source": [
    "def affiLogin(chro):\n",
    "    chro.get('https://grp02.id.rakuten.co.jp/rms/nid/vc?__event=login&service_id=p11')\n",
    "    \n",
    "    user=chro.find_element_by_id('loginInner_u')\n",
    "    user.send_keys('tonbi1997@gmail.com')\n",
    "    \n",
    "    password=chro.find_element_by_id('loginInner_p')\n",
    "    password.send_keys('j1997227')\n",
    "    \n",
    "    loginButton = chro.find_element_by_xpath('//*[@id=\"loginInner\"]/p[1]/input')\n",
    "    loginButton.click()\n",
    "\n",
    "    #chro.switch_to.window(chro.window_handles[0]) \n",
    "    chro.get('https://affiliate.rakuten.co.jp/')\n",
    "    return chro"
   ]
  },
  {
   "cell_type": "code",
   "execution_count": 6,
   "metadata": {},
   "outputs": [],
   "source": [
    "def affiURL(chro,url):\n",
    "    chro.get('https://affiliate.rakuten.co.jp/')\n",
    "    element=chro.find_element_by_id('u')\n",
    "    element.send_keys(url)\n",
    "    \n",
    "    #input url\n",
    "    element = chro.find_element_by_xpath('//*[@id=\"freelink\"]/div/div/div/button')\n",
    "    element.click()\n",
    "    \n",
    "    #get shortURL\n",
    "    element=chro.find_element_by_xpath('//*[@id=\"item_link_type\"]/label[4]')\n",
    "    element.click()\n",
    "    url=chro.find_element_by_id('preview_box').get_attribute(\"textContent\")\n",
    "    \n",
    "    return str(url)"
   ]
  },
  {
   "cell_type": "code",
   "execution_count": 7,
   "metadata": {},
   "outputs": [
    {
     "name": "stderr",
     "output_type": "stream",
     "text": [
      "d:\\masa\\anaconda3\\lib\\site-packages\\ipykernel_launcher.py:8: DeprecationWarning: use setter for headless property instead of set_headless\n",
      "  \n"
     ]
    }
   ],
   "source": [
    "chro=Chro().chrome()"
   ]
  },
  {
   "cell_type": "code",
   "execution_count": 8,
   "metadata": {},
   "outputs": [],
   "source": [
    "affiList=[]\n",
    "affiLogin(chro)\n",
    "for url in hrefList:\n",
    "    affiList.append(affiURL(chro,url))\n",
    "chro.close()\n"
   ]
  },
  {
   "cell_type": "code",
   "execution_count": 16,
   "metadata": {},
   "outputs": [],
   "source": [
    "with open('affiUrl.txt', 'w') as f:\n",
    "    for url in affiList:\n",
    "        f.write(\"%s\\n\" % url)\n",
    "        \n",
    "f.close()"
   ]
  },
  {
   "cell_type": "code",
   "execution_count": 13,
   "metadata": {},
   "outputs": [
    {
     "name": "stdout",
     "output_type": "stream",
     "text": [
      "['https://a.r10.to/hzo570', 'https://a.r10.to/hIawdF', 'https://a.r10.to/hygNel', 'https://a.r10.to/hISdLG', 'https://a.r10.to/hM9q6Y', 'https://a.r10.to/hzo5Vj', 'https://a.r10.to/hDJhhM', 'https://a.r10.to/hIaOP4', 'https://a.r10.to/hzdHl8', 'https://a.r10.to/hz7LS0', 'https://a.r10.to/hzA972']\n"
     ]
    }
   ],
   "source": [
    "print(affiList)"
   ]
  },
  {
   "cell_type": "code",
   "execution_count": null,
   "metadata": {},
   "outputs": [],
   "source": []
  }
 ],
 "metadata": {
  "kernelspec": {
   "display_name": "Python 3",
   "language": "python",
   "name": "python3"
  },
  "language_info": {
   "codemirror_mode": {
    "name": "ipython",
    "version": 3
   },
   "file_extension": ".py",
   "mimetype": "text/x-python",
   "name": "python",
   "nbconvert_exporter": "python",
   "pygments_lexer": "ipython3",
   "version": "3.7.6"
  },
  "varInspector": {
   "cols": {
    "lenName": 16,
    "lenType": 16,
    "lenVar": 40
   },
   "kernels_config": {
    "python": {
     "delete_cmd_postfix": "",
     "delete_cmd_prefix": "del ",
     "library": "var_list.py",
     "varRefreshCmd": "print(var_dic_list())"
    },
    "r": {
     "delete_cmd_postfix": ") ",
     "delete_cmd_prefix": "rm(",
     "library": "var_list.r",
     "varRefreshCmd": "cat(var_dic_list()) "
    }
   },
   "oldHeight": 122.72681799999998,
   "position": {
    "height": "329.503px",
    "left": "1355.38px",
    "right": "20px",
    "top": "133.935px",
    "width": "350px"
   },
   "types_to_exclude": [
    "module",
    "function",
    "builtin_function_or_method",
    "instance",
    "_Feature"
   ],
   "varInspector_section_display": "block",
   "window_display": true
  }
 },
 "nbformat": 4,
 "nbformat_minor": 4
}
