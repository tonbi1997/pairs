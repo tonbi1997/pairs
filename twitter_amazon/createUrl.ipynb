{
 "cells": [
  {
   "cell_type": "code",
   "execution_count": 50,
   "metadata": {},
   "outputs": [],
   "source": [
    "from selenium import webdriver\n",
    "import time\n",
    "import random\n",
    "from selenium.webdriver.common.action_chains import ActionChains\n",
    "from selenium.webdriver.common.keys import Keys\n",
    "from selenium.webdriver.support.ui import WebDriverWait\n",
    "from selenium.webdriver.chrome.options import Options\n",
    "from selenium.webdriver.common.desired_capabilities import DesiredCapabilities\n",
    "import urllib.request\n",
    "import os"
   ]
  },
  {
   "cell_type": "code",
   "execution_count": 37,
   "metadata": {},
   "outputs": [],
   "source": [
    "#chrome起動\n",
    "class Chro:\n",
    "    def __init__(self):\n",
    "        self.options = Options()\n",
    "        #options.add_argument('--headless')\n",
    "        #options.add_argument('--disable-gpu')\n",
    "        self.options.add_argument('--no-sandbox')\n",
    "        self.options.set_headless(False)\n",
    "        self.capabilities = DesiredCapabilities.CHROME.copy()\n",
    "        self.capabilities['acceptInsecureCerts'] = True\n",
    "        \n",
    "    def chrome(self):\n",
    "        self.chro =  webdriver.Chrome(options=self.options, desired_capabilities=self.capabilities)\n",
    "        return self.chro"
   ]
  },
  {
   "cell_type": "code",
   "execution_count": 38,
   "metadata": {},
   "outputs": [],
   "source": [
    "#タイムセール情報取得\n",
    "def getSale(chro):  \n",
    "    element=chro.find_element_by_xpath('//*[@id=\"six_timesale\"]/div[2]/div/div/div/ul['+str(i)+']/li['+str(j)+']')\n",
    "\n",
    "    #クリック前のハンドルリスト\n",
    "    handles_befor =chro.window_handles\n",
    "\n",
    "    #(リンク)要素を新しいタブで開く\n",
    "    actions = ActionChains(chro)\n",
    "\n",
    "    #Mac以外なのでコントロールキー\n",
    "    actions.key_down(Keys.CONTROL)\n",
    "    actions.click(element)\n",
    "    actions.perform()\n",
    "\n",
    "    #クリック後のハンドルリスト\n",
    "    handles_after = chro.window_handles\n",
    "\n",
    "    #ハンドルリストの差分\n",
    "    handle_new = list(set(handles_after) - set(handles_befor))\n",
    "\n",
    "    #新しいタブに移動\n",
    "    chro.switch_to.window(handle_new[0])\n",
    "\n",
    "    print(chro.current_url)\n",
    "    url=chro.current_url\n",
    "    \n",
    "    chro.close()\n",
    "\n",
    "    chro.switch_to.window(chro.window_handles[0]) \n",
    "    return str(url)"
   ]
  },
  {
   "cell_type": "code",
   "execution_count": 39,
   "metadata": {},
   "outputs": [],
   "source": [
    "#24hポイントアップ情報取得\n",
    "def getPointUp24(chro,i):  \n",
    "    element=chro.find_element_by_xpath('//*[@id=\"riSDAdTimeSale6\"]/div/ul/li['+str(i)+']/div/ul/li[5]/ul/li/a/img')\n",
    "\n",
    "    #クリック前のハンドルリスト\n",
    "    handles_befor =chro.window_handles\n",
    "\n",
    "    #(リンク)要素を新しいタブで開く\n",
    "    actions = ActionChains(chro)\n",
    "\n",
    "    #Mac以外なのでコントロールキー\n",
    "    actions.key_down(Keys.CONTROL)\n",
    "    actions.click(element)\n",
    "    actions.perform()\n",
    "\n",
    "    #クリック後のハンドルリスト\n",
    "    handles_after = chro.window_handles\n",
    "\n",
    "    #ハンドルリストの差分\n",
    "    handle_new = list(set(handles_after) - set(handles_befor))\n",
    "\n",
    "    #新しいタブに移動\n",
    "    chro.switch_to.window(handle_new[0])\n",
    "\n",
    "    print(chro.current_url)\n",
    "    url=chro.current_url\n",
    "    \n",
    "    chro.close()\n",
    "\n",
    "    chro.switch_to.window(chro.window_handles[0]) \n",
    "    return str(url)"
   ]
  },
  {
   "cell_type": "code",
   "execution_count": 40,
   "metadata": {},
   "outputs": [],
   "source": [
    "#ポイントアップ情報取得\n",
    "def getPointUp(chro,i):  \n",
    "    element=chro.find_element_by_xpath('//*[@id=\"SDalcorAdsect\"]/li['+str(i)+']/p[2]/a/img')\n",
    "    #クリック前のハンドルリスト\n",
    "    handles_befor =chro.window_handles\n",
    "\n",
    "    #(リンク)要素を新しいタブで開く\n",
    "    actions = ActionChains(chro)\n",
    "\n",
    "    #Mac以外なのでコントロールキー\n",
    "    actions.key_down(Keys.CONTROL)\n",
    "    actions.click(element)\n",
    "    actions.perform()\n",
    "\n",
    "    element=chro.find_element_by_xpath('//*[@id=\"SDalcorAdsect\"]/li['+str(i)+']/p[3]/a')\n",
    "    title=element.text\n",
    "    \n",
    "    element=chro.find_element_by_xpath('//*[@id=\"SDalcorAdsect\"]/li['+str(i)+']/p[5]')\n",
    "    price=element.text\n",
    "    #クリック後のハンドルリスト\n",
    "    handles_after = chro.window_handles\n",
    "\n",
    "    #ハンドルリストの差分\n",
    "    handle_new = list(set(handles_after) - set(handles_befor))\n",
    "\n",
    "    #新しいタブに移動\n",
    "    chro.switch_to.window(handle_new[0])\n",
    "\n",
    "    print(chro.current_url)\n",
    "    url=chro.current_url\n",
    "    \n",
    "    chro.close()\n",
    "\n",
    "    chro.switch_to.window(chro.window_handles[0]) \n",
    "    return [str(url),title,price]"
   ]
  },
  {
   "cell_type": "code",
   "execution_count": 49,
   "metadata": {},
   "outputs": [
    {
     "name": "stderr",
     "output_type": "stream",
     "text": [
      "d:\\masa\\anaconda3\\lib\\site-packages\\ipykernel_launcher.py:8: DeprecationWarning: use setter for headless property instead of set_headless\n",
      "  \n"
     ]
    },
    {
     "name": "stdout",
     "output_type": "stream",
     "text": [
      "https://item.rakuten.co.jp/stripe-club/a1cc00005z2c/\n"
     ]
    }
   ],
   "source": [
    "\n",
    "breakFlg=False\n",
    "hrefList=[]\n",
    "chro=Chro().chrome()\n",
    "chro.get('https://event.rakuten.co.jp/bargain/timesale/')\n",
    "for i in range(1,2):\n",
    "    for j in range(1,2):\n",
    "        try:\n",
    "            hrefList.append(getSale(chro))\n",
    "        except:\n",
    "            try:\n",
    "                hrefList.append(getSale(chro))\n",
    "            except:\n",
    "                print('miss')"
   ]
  },
  {
   "cell_type": "code",
   "execution_count": 42,
   "metadata": {},
   "outputs": [],
   "source": [
    "def affiLogin(chro):\n",
    "    chro.get('https://grp02.id.rakuten.co.jp/rms/nid/vc?__event=login&service_id=p11')\n",
    "    \n",
    "    user=chro.find_element_by_id('loginInner_u')\n",
    "    user.send_keys('tonbi1997@gmail.com')\n",
    "    \n",
    "    password=chro.find_element_by_id('loginInner_p')\n",
    "    password.send_keys('j1997227')\n",
    "    \n",
    "    loginButton = chro.find_element_by_xpath('//*[@id=\"loginInner\"]/p[1]/input')\n",
    "    loginButton.click()\n",
    "\n",
    "    #chro.switch_to.window(chro.window_handles[0]) \n",
    "    chro.get('https://affiliate.rakuten.co.jp/')\n",
    "    return chro"
   ]
  },
  {
   "cell_type": "code",
   "execution_count": 74,
   "metadata": {},
   "outputs": [],
   "source": [
    "\n",
    "def affiURL(chro,url):\n",
    "    chro.get('https://affiliate.rakuten.co.jp/')\n",
    "\n",
    "    time.sleep(10)\n",
    "    element=chro.find_element_by_id('u')\n",
    "    element.send_keys(url[0][0])\n",
    "    print(url[0])\n",
    "    print('1')\n",
    "    #input url\n",
    "    element = chro.find_element_by_xpath('//*[@id=\"freelink\"]/div/div/div/button')\n",
    "    time.sleep(4)\n",
    "    element.click()\n",
    "    \n",
    "    try:   \n",
    "        title=chro.find_element_by_xpath('//*[@id=\"preview_box\"]/table/tbody/tr/td[2]/div/table/tbody/tr/td[2]/p/a').text\n",
    "        price=chro.find_element_by_xpath('//*[@id=\"preview_box\"]/table/tbody/tr/td[2]/div/table/tbody/tr/td[2]/p/span[1]').text\n",
    "    except: \n",
    "        title=chro.find_element_by_xpath('//*[@id=\"preview_box\"]/table/tbody/tr/td/div/table/tbody/tr/td[2]/p/a').text\n",
    "        price=chro.find_element_by_xpath('//*[@id=\"preview_box\"]/table/tbody/tr/td/div/table/tbody/tr/td[2]/p/span[1]').text\n",
    "    \n",
    "    #画像ダウンロード\n",
    "    element1=chro.find_element_by_xpath('//*[@id=\"item_link_type\"]/label[2]')\n",
    "    element1.click()\n",
    "    src= chro.find_element_by_xpath('//*[@id=\"preview_box\"]/a/img').get_attribute('src')\n",
    "    urllib.request.urlretrieve(src, './affiImg/temp.jpg')\n",
    "    \n",
    "    #get shortURL\n",
    "    element=chro.find_element_by_xpath('//*[@id=\"item_link_type\"]/label[4]')\n",
    "    element.click()\n",
    "    affiUrl=chro.find_element_by_id('preview_box').get_attribute(\"textContent\")\n",
    "    \n",
    "    #imgファイル取得\n",
    "    imgFileNameList=affiUrl.split('/')\n",
    "    imgFileName=imgFileNameList[len(imgFileNameList)-1]\n",
    "    \n",
    "    # ファイル名の変更 \n",
    "    os.rename('./affiImg/temp.jpg', './affiImg/'+imgFileName+'.jpg') \n",
    "    \n",
    "    return str(title)+\"[\"+str(price)+\"]\"+str(affiUrl)"
   ]
  },
  {
   "cell_type": "code",
   "execution_count": 75,
   "metadata": {},
   "outputs": [
    {
     "name": "stderr",
     "output_type": "stream",
     "text": [
      "d:\\masa\\anaconda3\\lib\\site-packages\\ipykernel_launcher.py:8: DeprecationWarning: use setter for headless property instead of set_headless\n",
      "  \n"
     ]
    },
    {
     "name": "stdout",
     "output_type": "stream",
     "text": [
      "['https://item.rakuten.co.jp/underarmour/u30206200106/', 'セール価格【公式】アンダーアーマー（...', '5,500円']\n",
      "['https://item.rakuten.co.jp/underarmour/u30206200106/', 'セール価格【公式】アンダーアーマー（...', '5,500円']\n",
      "1\n",
      "セール価格【公式】アンダーアーマー（UNDER ARMOUR）シューズ UAトーチ ( バスケットボール/バスケットボールシューズ/MEN メンズ ) 3020620[価格：5500円（税込、送料無料)]https://a.r10.to/hzxhNq\n"
     ]
    }
   ],
   "source": [
    "affiChro=Chro().chrome()\n",
    "affiLogin(affiChro)\n",
    "url=[['https://item.rakuten.co.jp/underarmour/u30206200106/', 'セール価格【公式】アンダーアーマー（...', '5,500円'], ['https://item.rakuten.co.jp/underarmour/u30206200106/', 'セール価格【公式】アンダーアーマー（...', '5,500円']]\n",
    "print(url[0])\n",
    "affiUrl=affiURL(affiChro,url)\n",
    "print(affiUrl)"
   ]
  },
  {
   "cell_type": "code",
   "execution_count": 19,
   "metadata": {},
   "outputs": [
    {
     "name": "stdout",
     "output_type": "stream",
     "text": [
      "https://item.rakuten.co.jp/forty-and-five/405cc-giftset/\n"
     ]
    }
   ],
   "source": [
    "url=['https://item.rakuten.co.jp/forty-and-five/405cc-giftset/','0']\n",
    "print(url[0])"
   ]
  },
  {
   "cell_type": "code",
   "execution_count": 54,
   "metadata": {},
   "outputs": [
    {
     "name": "stderr",
     "output_type": "stream",
     "text": [
      "d:\\masa\\anaconda3\\lib\\site-packages\\ipykernel_launcher.py:8: DeprecationWarning: use setter for headless property instead of set_headless\n",
      "  \n"
     ]
    },
    {
     "name": "stdout",
     "output_type": "stream",
     "text": [
      "https://item.rakuten.co.jp/underarmour/u30206200106/\n",
      "https://item.rakuten.co.jp/underarmour/u30206200106/\n",
      "1\n",
      "https://item.rakuten.co.jp/underarmour/u30206200106/\n",
      "https://item.rakuten.co.jp/underarmour/u30206200106/\n",
      "1\n",
      "miss\n"
     ]
    }
   ],
   "source": [
    "\n",
    "breakFlg=False\n",
    "hrefList=[]\n",
    "chro=Chro().chrome()\n",
    "chro.get('https://event.rakuten.co.jp/superdeal/special/pointback50/')\n",
    "for i in range(1,2):\n",
    "    try:\n",
    "        ex=getPointUp(chro,i)\n",
    "        hrefList.append(ex)\n",
    "        url=affiURL(affiChro,ex)\n",
    "        affiList.append(url)\n",
    "        print(url)\n",
    "    except:\n",
    "        try:\n",
    "            ex=getPointUp(chro,i)\n",
    "            hrefList.append(ex)\n",
    "            url=affiURL(affiChro,ex)\n",
    "            print(url)\n",
    "            affiList.append(url)\n",
    "        except:\n",
    "            print('miss')"
   ]
  },
  {
   "cell_type": "code",
   "execution_count": 56,
   "metadata": {},
   "outputs": [
    {
     "name": "stderr",
     "output_type": "stream",
     "text": [
      "d:\\masa\\anaconda3\\lib\\site-packages\\ipykernel_launcher.py:8: DeprecationWarning: use setter for headless property instead of set_headless\n",
      "  \n"
     ]
    },
    {
     "name": "stdout",
     "output_type": "stream",
     "text": [
      "https://item.rakuten.co.jp/underarmour/u30206200106/\n",
      "1\n"
     ]
    },
    {
     "ename": "NoSuchElementException",
     "evalue": "Message: no such element: Unable to locate element: {\"method\":\"xpath\",\"selector\":\"/html/body/div[3]/div/form/div/div[2]/div[4]/div/div/div/div[1]/img\"}\n  (Session info: chrome=84.0.4147.105)\n",
     "output_type": "error",
     "traceback": [
      "\u001b[1;31m---------------------------------------------------------------------------\u001b[0m",
      "\u001b[1;31mNoSuchElementException\u001b[0m                    Traceback (most recent call last)",
      "\u001b[1;32m<ipython-input-56-487354a78e5b>\u001b[0m in \u001b[0;36m<module>\u001b[1;34m\u001b[0m\n\u001b[0;32m      3\u001b[0m \u001b[0maffiList\u001b[0m\u001b[1;33m=\u001b[0m\u001b[1;33m[\u001b[0m\u001b[1;33m]\u001b[0m\u001b[1;33m\u001b[0m\u001b[1;33m\u001b[0m\u001b[0m\n\u001b[0;32m      4\u001b[0m \u001b[1;32mfor\u001b[0m \u001b[0murl\u001b[0m \u001b[1;32min\u001b[0m \u001b[0mhrefList\u001b[0m\u001b[1;33m:\u001b[0m\u001b[1;33m\u001b[0m\u001b[1;33m\u001b[0m\u001b[0m\n\u001b[1;32m----> 5\u001b[1;33m     \u001b[0maffiUrl\u001b[0m\u001b[1;33m=\u001b[0m\u001b[0maffiURL\u001b[0m\u001b[1;33m(\u001b[0m\u001b[0maffiChro\u001b[0m\u001b[1;33m,\u001b[0m\u001b[0murl\u001b[0m\u001b[1;33m)\u001b[0m\u001b[1;33m\u001b[0m\u001b[1;33m\u001b[0m\u001b[0m\n\u001b[0m\u001b[0;32m      6\u001b[0m     \u001b[0maffiList\u001b[0m\u001b[1;33m.\u001b[0m\u001b[0mappend\u001b[0m\u001b[1;33m(\u001b[0m\u001b[0maffiUrl\u001b[0m\u001b[1;33m)\u001b[0m\u001b[1;33m\u001b[0m\u001b[1;33m\u001b[0m\u001b[0m\n\u001b[0;32m      7\u001b[0m     \u001b[0mprint\u001b[0m\u001b[1;33m(\u001b[0m\u001b[0maffiUrl\u001b[0m\u001b[1;33m)\u001b[0m\u001b[1;33m\u001b[0m\u001b[1;33m\u001b[0m\u001b[0m\n",
      "\u001b[1;32m<ipython-input-43-a45c34a5d709>\u001b[0m in \u001b[0;36maffiURL\u001b[1;34m(chro, url)\u001b[0m\n\u001b[0;32m     16\u001b[0m \u001b[1;33m\u001b[0m\u001b[0m\n\u001b[0;32m     17\u001b[0m     \u001b[1;31m#画像ダウンロード\u001b[0m\u001b[1;33m\u001b[0m\u001b[1;33m\u001b[0m\u001b[1;33m\u001b[0m\u001b[0m\n\u001b[1;32m---> 18\u001b[1;33m     \u001b[0msrc\u001b[0m\u001b[1;33m=\u001b[0m \u001b[0mchro\u001b[0m\u001b[1;33m.\u001b[0m\u001b[0mfind_element_by_xpath\u001b[0m\u001b[1;33m(\u001b[0m\u001b[1;34m'/html/body/div[3]/div/form/div/div[2]/div[4]/div/div/div/div[1]/img'\u001b[0m\u001b[1;33m)\u001b[0m\u001b[1;33m.\u001b[0m\u001b[0mget_attribute\u001b[0m\u001b[1;33m(\u001b[0m\u001b[1;34m'src'\u001b[0m\u001b[1;33m)\u001b[0m\u001b[1;33m\u001b[0m\u001b[1;33m\u001b[0m\u001b[0m\n\u001b[0m\u001b[0;32m     19\u001b[0m     \u001b[0murllib\u001b[0m\u001b[1;33m.\u001b[0m\u001b[0mrequest\u001b[0m\u001b[1;33m.\u001b[0m\u001b[0murlretrieve\u001b[0m\u001b[1;33m(\u001b[0m\u001b[0msrc\u001b[0m\u001b[1;33m,\u001b[0m \u001b[1;34m'affiUrl/temp.jpg'\u001b[0m\u001b[1;33m)\u001b[0m\u001b[1;33m\u001b[0m\u001b[1;33m\u001b[0m\u001b[0m\n\u001b[0;32m     20\u001b[0m \u001b[1;33m\u001b[0m\u001b[0m\n",
      "\u001b[1;32md:\\masa\\anaconda3\\lib\\site-packages\\selenium\\webdriver\\remote\\webdriver.py\u001b[0m in \u001b[0;36mfind_element_by_xpath\u001b[1;34m(self, xpath)\u001b[0m\n\u001b[0;32m    392\u001b[0m             \u001b[0melement\u001b[0m \u001b[1;33m=\u001b[0m \u001b[0mdriver\u001b[0m\u001b[1;33m.\u001b[0m\u001b[0mfind_element_by_xpath\u001b[0m\u001b[1;33m(\u001b[0m\u001b[1;34m'//div/td[1]'\u001b[0m\u001b[1;33m)\u001b[0m\u001b[1;33m\u001b[0m\u001b[1;33m\u001b[0m\u001b[0m\n\u001b[0;32m    393\u001b[0m         \"\"\"\n\u001b[1;32m--> 394\u001b[1;33m         \u001b[1;32mreturn\u001b[0m \u001b[0mself\u001b[0m\u001b[1;33m.\u001b[0m\u001b[0mfind_element\u001b[0m\u001b[1;33m(\u001b[0m\u001b[0mby\u001b[0m\u001b[1;33m=\u001b[0m\u001b[0mBy\u001b[0m\u001b[1;33m.\u001b[0m\u001b[0mXPATH\u001b[0m\u001b[1;33m,\u001b[0m \u001b[0mvalue\u001b[0m\u001b[1;33m=\u001b[0m\u001b[0mxpath\u001b[0m\u001b[1;33m)\u001b[0m\u001b[1;33m\u001b[0m\u001b[1;33m\u001b[0m\u001b[0m\n\u001b[0m\u001b[0;32m    395\u001b[0m \u001b[1;33m\u001b[0m\u001b[0m\n\u001b[0;32m    396\u001b[0m     \u001b[1;32mdef\u001b[0m \u001b[0mfind_elements_by_xpath\u001b[0m\u001b[1;33m(\u001b[0m\u001b[0mself\u001b[0m\u001b[1;33m,\u001b[0m \u001b[0mxpath\u001b[0m\u001b[1;33m)\u001b[0m\u001b[1;33m:\u001b[0m\u001b[1;33m\u001b[0m\u001b[1;33m\u001b[0m\u001b[0m\n",
      "\u001b[1;32md:\\masa\\anaconda3\\lib\\site-packages\\selenium\\webdriver\\remote\\webdriver.py\u001b[0m in \u001b[0;36mfind_element\u001b[1;34m(self, by, value)\u001b[0m\n\u001b[0;32m    976\u001b[0m         return self.execute(Command.FIND_ELEMENT, {\n\u001b[0;32m    977\u001b[0m             \u001b[1;34m'using'\u001b[0m\u001b[1;33m:\u001b[0m \u001b[0mby\u001b[0m\u001b[1;33m,\u001b[0m\u001b[1;33m\u001b[0m\u001b[1;33m\u001b[0m\u001b[0m\n\u001b[1;32m--> 978\u001b[1;33m             'value': value})['value']\n\u001b[0m\u001b[0;32m    979\u001b[0m \u001b[1;33m\u001b[0m\u001b[0m\n\u001b[0;32m    980\u001b[0m     \u001b[1;32mdef\u001b[0m \u001b[0mfind_elements\u001b[0m\u001b[1;33m(\u001b[0m\u001b[0mself\u001b[0m\u001b[1;33m,\u001b[0m \u001b[0mby\u001b[0m\u001b[1;33m=\u001b[0m\u001b[0mBy\u001b[0m\u001b[1;33m.\u001b[0m\u001b[0mID\u001b[0m\u001b[1;33m,\u001b[0m \u001b[0mvalue\u001b[0m\u001b[1;33m=\u001b[0m\u001b[1;32mNone\u001b[0m\u001b[1;33m)\u001b[0m\u001b[1;33m:\u001b[0m\u001b[1;33m\u001b[0m\u001b[1;33m\u001b[0m\u001b[0m\n",
      "\u001b[1;32md:\\masa\\anaconda3\\lib\\site-packages\\selenium\\webdriver\\remote\\webdriver.py\u001b[0m in \u001b[0;36mexecute\u001b[1;34m(self, driver_command, params)\u001b[0m\n\u001b[0;32m    319\u001b[0m         \u001b[0mresponse\u001b[0m \u001b[1;33m=\u001b[0m \u001b[0mself\u001b[0m\u001b[1;33m.\u001b[0m\u001b[0mcommand_executor\u001b[0m\u001b[1;33m.\u001b[0m\u001b[0mexecute\u001b[0m\u001b[1;33m(\u001b[0m\u001b[0mdriver_command\u001b[0m\u001b[1;33m,\u001b[0m \u001b[0mparams\u001b[0m\u001b[1;33m)\u001b[0m\u001b[1;33m\u001b[0m\u001b[1;33m\u001b[0m\u001b[0m\n\u001b[0;32m    320\u001b[0m         \u001b[1;32mif\u001b[0m \u001b[0mresponse\u001b[0m\u001b[1;33m:\u001b[0m\u001b[1;33m\u001b[0m\u001b[1;33m\u001b[0m\u001b[0m\n\u001b[1;32m--> 321\u001b[1;33m             \u001b[0mself\u001b[0m\u001b[1;33m.\u001b[0m\u001b[0merror_handler\u001b[0m\u001b[1;33m.\u001b[0m\u001b[0mcheck_response\u001b[0m\u001b[1;33m(\u001b[0m\u001b[0mresponse\u001b[0m\u001b[1;33m)\u001b[0m\u001b[1;33m\u001b[0m\u001b[1;33m\u001b[0m\u001b[0m\n\u001b[0m\u001b[0;32m    322\u001b[0m             response['value'] = self._unwrap_value(\n\u001b[0;32m    323\u001b[0m                 response.get('value', None))\n",
      "\u001b[1;32md:\\masa\\anaconda3\\lib\\site-packages\\selenium\\webdriver\\remote\\errorhandler.py\u001b[0m in \u001b[0;36mcheck_response\u001b[1;34m(self, response)\u001b[0m\n\u001b[0;32m    240\u001b[0m                 \u001b[0malert_text\u001b[0m \u001b[1;33m=\u001b[0m \u001b[0mvalue\u001b[0m\u001b[1;33m[\u001b[0m\u001b[1;34m'alert'\u001b[0m\u001b[1;33m]\u001b[0m\u001b[1;33m.\u001b[0m\u001b[0mget\u001b[0m\u001b[1;33m(\u001b[0m\u001b[1;34m'text'\u001b[0m\u001b[1;33m)\u001b[0m\u001b[1;33m\u001b[0m\u001b[1;33m\u001b[0m\u001b[0m\n\u001b[0;32m    241\u001b[0m             \u001b[1;32mraise\u001b[0m \u001b[0mexception_class\u001b[0m\u001b[1;33m(\u001b[0m\u001b[0mmessage\u001b[0m\u001b[1;33m,\u001b[0m \u001b[0mscreen\u001b[0m\u001b[1;33m,\u001b[0m \u001b[0mstacktrace\u001b[0m\u001b[1;33m,\u001b[0m \u001b[0malert_text\u001b[0m\u001b[1;33m)\u001b[0m\u001b[1;33m\u001b[0m\u001b[1;33m\u001b[0m\u001b[0m\n\u001b[1;32m--> 242\u001b[1;33m         \u001b[1;32mraise\u001b[0m \u001b[0mexception_class\u001b[0m\u001b[1;33m(\u001b[0m\u001b[0mmessage\u001b[0m\u001b[1;33m,\u001b[0m \u001b[0mscreen\u001b[0m\u001b[1;33m,\u001b[0m \u001b[0mstacktrace\u001b[0m\u001b[1;33m)\u001b[0m\u001b[1;33m\u001b[0m\u001b[1;33m\u001b[0m\u001b[0m\n\u001b[0m\u001b[0;32m    243\u001b[0m \u001b[1;33m\u001b[0m\u001b[0m\n\u001b[0;32m    244\u001b[0m     \u001b[1;32mdef\u001b[0m \u001b[0m_value_or_default\u001b[0m\u001b[1;33m(\u001b[0m\u001b[0mself\u001b[0m\u001b[1;33m,\u001b[0m \u001b[0mobj\u001b[0m\u001b[1;33m,\u001b[0m \u001b[0mkey\u001b[0m\u001b[1;33m,\u001b[0m \u001b[0mdefault\u001b[0m\u001b[1;33m)\u001b[0m\u001b[1;33m:\u001b[0m\u001b[1;33m\u001b[0m\u001b[1;33m\u001b[0m\u001b[0m\n",
      "\u001b[1;31mNoSuchElementException\u001b[0m: Message: no such element: Unable to locate element: {\"method\":\"xpath\",\"selector\":\"/html/body/div[3]/div/form/div/div[2]/div[4]/div/div/div/div[1]/img\"}\n  (Session info: chrome=84.0.4147.105)\n"
     ]
    }
   ],
   "source": [
    "\n",
    "affiChro=Chro().chrome()\n",
    "affiLogin(affiChro)\n",
    "affiList=[]\n",
    "for url in hrefList:\n",
    "    affiUrl=affiURL(affiChro,url)\n",
    "    affiList.append(affiUrl)\n",
    "    print(affiUrl)"
   ]
  },
  {
   "cell_type": "code",
   "execution_count": 55,
   "metadata": {},
   "outputs": [
    {
     "name": "stdout",
     "output_type": "stream",
     "text": [
      "[]\n",
      "[['https://item.rakuten.co.jp/underarmour/u30206200106/', 'セール価格【公式】アンダーアーマー（...', '5,500円'], ['https://item.rakuten.co.jp/underarmour/u30206200106/', 'セール価格【公式】アンダーアーマー（...', '5,500円']]\n"
     ]
    }
   ],
   "source": [
    "print(affiList)\n",
    "print(hrefList)"
   ]
  },
  {
   "cell_type": "code",
   "execution_count": 46,
   "metadata": {},
   "outputs": [],
   "source": [
    "with open('affiUrl.txt', 'w') as f:\n",
    "    for url in affiList:\n",
    "        f.write(\"%s\\n\" % url)\n",
    "        \n",
    "f.close()\n"
   ]
  },
  {
   "cell_type": "code",
   "execution_count": 39,
   "metadata": {},
   "outputs": [
    {
     "name": "stdout",
     "output_type": "stream",
     "text": [
      "[['https://item.rakuten.co.jp/netbaby/4903111229222/', 'ムーニーマン 冷えあんしん パンツ ...', '5,258円'], ['https://item.rakuten.co.jp/netbaby/4903111229673/', 'ムーニーマン 冷えあんしん パンツ ...', '2,629円'], ['https://item.rakuten.co.jp/netbaby/403852/', 'ムーニーマン 冷えあんしん パンツ(...', '5,258円'], ['https://item.rakuten.co.jp/cos-beauty/joy/', '【ポイント50倍】進化版 COSBE...', '49,280円'], ['https://item.rakuten.co.jp/nishiuchikagetsudo/hotel-pie/', '訳あり ケーキ 送料無料 西内ホテル...', '1,980円'], ['https://item.rakuten.co.jp/oga/ae1_sale/', '亜鉛（約12ヶ月分）栄養機能食品送料...', '2,980円'], ['https://item.rakuten.co.jp/once-in/kagoshima_ra-men_2/', '＼50％ポイントバック対象／日本全国...', '1,000円'], ['https://item.rakuten.co.jp/nishiuchikagetsudo/honki-mode04/', 'プチギフト クッキー 和三盆クッキー...', '2,200円'], ['https://item.rakuten.co.jp/rakuten24/88797/', '【訳あり】ニベア マシュマロケア ボ...', '1,936円']]\n"
     ]
    }
   ],
   "source": [
    "print(List)"
   ]
  },
  {
   "cell_type": "code",
   "execution_count": 50,
   "metadata": {},
   "outputs": [
    {
     "name": "stdout",
     "output_type": "stream",
     "text": [
      "['https://a.r10.to/hyYLIc', 'ムーニーマン 冷えあんしん パンツ ...', '5,258円']\n"
     ]
    }
   ],
   "source": [
    "urlList=[]\n",
    "with open('affiUrl.txt') as f:\n",
    "    urlList = [s.strip() for s in f.readlines()]\n",
    "    f.close()\n",
    "print(urlList[0])\n"
   ]
  },
  {
   "cell_type": "code",
   "execution_count": null,
   "metadata": {},
   "outputs": [],
   "source": []
  },
  {
   "cell_type": "code",
   "execution_count": 44,
   "metadata": {},
   "outputs": [],
   "source": [
    "affiList=[]\n",
    "affiLogin(chro)\n",
    "for url in hrefList:\n",
    "    affiList.append(affiURL(affiChro,url))\n",
    "affiChro.close()\n"
   ]
  }
 ],
 "metadata": {
  "kernelspec": {
   "display_name": "Python 3",
   "language": "python",
   "name": "python3"
  },
  "language_info": {
   "codemirror_mode": {
    "name": "ipython",
    "version": 3
   },
   "file_extension": ".py",
   "mimetype": "text/x-python",
   "name": "python",
   "nbconvert_exporter": "python",
   "pygments_lexer": "ipython3",
   "version": "3.7.6"
  },
  "varInspector": {
   "cols": {
    "lenName": 16,
    "lenType": 16,
    "lenVar": 40
   },
   "kernels_config": {
    "python": {
     "delete_cmd_postfix": "",
     "delete_cmd_prefix": "del ",
     "library": "var_list.py",
     "varRefreshCmd": "print(var_dic_list())"
    },
    "r": {
     "delete_cmd_postfix": ") ",
     "delete_cmd_prefix": "rm(",
     "library": "var_list.r",
     "varRefreshCmd": "cat(var_dic_list()) "
    }
   },
   "oldHeight": 122.72681799999998,
   "position": {
    "height": "329.503px",
    "left": "1399.36px",
    "right": "20px",
    "top": "132.929px",
    "width": "350px"
   },
   "types_to_exclude": [
    "module",
    "function",
    "builtin_function_or_method",
    "instance",
    "_Feature"
   ],
   "varInspector_section_display": "block",
   "window_display": true
  }
 },
 "nbformat": 4,
 "nbformat_minor": 4
}
