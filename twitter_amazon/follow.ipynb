{
 "cells": [
  {
   "cell_type": "code",
   "execution_count": 1,
   "metadata": {},
   "outputs": [],
   "source": [
    "import tweepy\n",
    "import const\n",
    "\n",
    "class Twitter:\n",
    "    def __init__(self):\n",
    "        self.CK=const.CK\n",
    "        self.CS=const.CS\n",
    "        self.AT=const.AT\n",
    "        self.AS=const.AS\n",
    "\n",
    "    def getApi(self):\n",
    "        # Twitterオブジェクトの生成\n",
    "        auth = tweepy.OAuthHandler(self.CK, self.CS)\n",
    "        auth.set_access_token(self.AT, self.AS)\n",
    "        api=tweepy.API(auth)\n",
    "        return api\n"
   ]
  },
  {
   "cell_type": "code",
   "execution_count": 4,
   "metadata": {},
   "outputs": [
    {
     "name": "stdout",
     "output_type": "stream",
     "text": [
      "User(_api=<tweepy.api.API object at 0x000002D1B844F688>, _json={'id': 130671401, 'id_str': '130671401', 'name': '楽天市場', 'screen_name': 'RakutenJP', 'location': 'Tokyo, Japan', 'profile_location': None, 'description': '楽天市場の公式アカウントです😆セール情報、ユニークな商品や、楽天のいろいろなサービスをご紹介❣️お急ぎの質問や調査が必要なお問合せは https://t.co/oaMjTkOqFB までお願いします。Shopping is Entertainment!', 'url': None, 'entities': {'description': {'urls': [{'url': 'https://t.co/oaMjTkOqFB', 'expanded_url': 'https://r10.to/hl5bd1', 'display_url': 'r10.to/hl5bd1', 'indices': [67, 90]}]}}, 'protected': False, 'followers_count': 1157199, 'friends_count': 50907, 'listed_count': 4426, 'created_at': 'Wed Apr 07 23:56:08 +0000 2010', 'favourites_count': 9451, 'utc_offset': None, 'time_zone': None, 'geo_enabled': False, 'verified': True, 'statuses_count': 61030, 'lang': None, 'status': {'created_at': 'Wed Jul 22 09:00:20 +0000 2020', 'id': 1285862230630817793, 'id_str': '1285862230630817793', 'text': '＼今すぐチャレンジ！✊✨／ \\n1日1回チャレンジできるジャンケンに勝利してポイントゲット！\\n貯めたポイントは街でのお買い物や楽天グループで使える🍀 \\nいますぐエントリー▶https://t.co/RURMNgiwwx https://t.co/c8RwMrjtEP', 'truncated': False, 'entities': {'hashtags': [], 'symbols': [], 'user_mentions': [], 'urls': [{'url': 'https://t.co/RURMNgiwwx', 'expanded_url': 'https://r10.to/hlfdEB', 'display_url': 'r10.to/hlfdEB', 'indices': [85, 108]}], 'media': [{'id': 1285862226038075392, 'id_str': '1285862226038075392', 'indices': [109, 132], 'media_url': 'http://pbs.twimg.com/media/EdhM4b0XsAACrYl.png', 'media_url_https': 'https://pbs.twimg.com/media/EdhM4b0XsAACrYl.png', 'url': 'https://t.co/c8RwMrjtEP', 'display_url': 'pic.twitter.com/c8RwMrjtEP', 'expanded_url': 'https://twitter.com/RakutenJP/status/1285862230630817793/photo/1', 'type': 'photo', 'sizes': {'large': {'w': 800, 'h': 418, 'resize': 'fit'}, 'small': {'w': 680, 'h': 355, 'resize': 'fit'}, 'medium': {'w': 800, 'h': 418, 'resize': 'fit'}, 'thumb': {'w': 150, 'h': 150, 'resize': 'crop'}}}]}, 'extended_entities': {'media': [{'id': 1285862226038075392, 'id_str': '1285862226038075392', 'indices': [109, 132], 'media_url': 'http://pbs.twimg.com/media/EdhM4b0XsAACrYl.png', 'media_url_https': 'https://pbs.twimg.com/media/EdhM4b0XsAACrYl.png', 'url': 'https://t.co/c8RwMrjtEP', 'display_url': 'pic.twitter.com/c8RwMrjtEP', 'expanded_url': 'https://twitter.com/RakutenJP/status/1285862230630817793/photo/1', 'type': 'photo', 'sizes': {'large': {'w': 800, 'h': 418, 'resize': 'fit'}, 'small': {'w': 680, 'h': 355, 'resize': 'fit'}, 'medium': {'w': 800, 'h': 418, 'resize': 'fit'}, 'thumb': {'w': 150, 'h': 150, 'resize': 'crop'}}}]}, 'source': '<a href=\"http://www.salesforce.com\" rel=\"nofollow\">Salesforce - Social Studio</a>', 'in_reply_to_status_id': None, 'in_reply_to_status_id_str': None, 'in_reply_to_user_id': None, 'in_reply_to_user_id_str': None, 'in_reply_to_screen_name': None, 'geo': None, 'coordinates': None, 'place': None, 'contributors': None, 'is_quote_status': False, 'retweet_count': 19, 'favorite_count': 67, 'favorited': False, 'retweeted': False, 'possibly_sensitive': False, 'lang': 'ja'}, 'contributors_enabled': False, 'is_translator': False, 'is_translation_enabled': False, 'profile_background_color': '000000', 'profile_background_image_url': 'http://abs.twimg.com/images/themes/theme1/bg.png', 'profile_background_image_url_https': 'https://abs.twimg.com/images/themes/theme1/bg.png', 'profile_background_tile': False, 'profile_image_url': 'http://pbs.twimg.com/profile_images/1046580603078864896/siehi3PY_normal.jpg', 'profile_image_url_https': 'https://pbs.twimg.com/profile_images/1046580603078864896/siehi3PY_normal.jpg', 'profile_banner_url': 'https://pbs.twimg.com/profile_banners/130671401/1554971341', 'profile_link_color': 'BF0000', 'profile_sidebar_border_color': '000000', 'profile_sidebar_fill_color': '000000', 'profile_text_color': '000000', 'profile_use_background_image': False, 'has_extended_profile': False, 'default_profile': False, 'default_profile_image': False, 'following': True, 'follow_request_sent': False, 'notifications': False, 'translator_type': 'regular'}, id=130671401, id_str='130671401', name='楽天市場', screen_name='RakutenJP', location='Tokyo, Japan', profile_location=None, description='楽天市場の公式アカウントです😆セール情報、ユニークな商品や、楽天のいろいろなサービスをご紹介❣️お急ぎの質問や調査が必要なお問合せは https://t.co/oaMjTkOqFB までお願いします。Shopping is Entertainment!', url=None, entities={'description': {'urls': [{'url': 'https://t.co/oaMjTkOqFB', 'expanded_url': 'https://r10.to/hl5bd1', 'display_url': 'r10.to/hl5bd1', 'indices': [67, 90]}]}}, protected=False, followers_count=1157199, friends_count=50907, listed_count=4426, created_at=datetime.datetime(2010, 4, 7, 23, 56, 8), favourites_count=9451, utc_offset=None, time_zone=None, geo_enabled=False, verified=True, statuses_count=61030, lang=None, status=Status(_api=<tweepy.api.API object at 0x000002D1B844F688>, _json={'created_at': 'Wed Jul 22 09:00:20 +0000 2020', 'id': 1285862230630817793, 'id_str': '1285862230630817793', 'text': '＼今すぐチャレンジ！✊✨／ \\n1日1回チャレンジできるジャンケンに勝利してポイントゲット！\\n貯めたポイントは街でのお買い物や楽天グループで使える🍀 \\nいますぐエントリー▶https://t.co/RURMNgiwwx https://t.co/c8RwMrjtEP', 'truncated': False, 'entities': {'hashtags': [], 'symbols': [], 'user_mentions': [], 'urls': [{'url': 'https://t.co/RURMNgiwwx', 'expanded_url': 'https://r10.to/hlfdEB', 'display_url': 'r10.to/hlfdEB', 'indices': [85, 108]}], 'media': [{'id': 1285862226038075392, 'id_str': '1285862226038075392', 'indices': [109, 132], 'media_url': 'http://pbs.twimg.com/media/EdhM4b0XsAACrYl.png', 'media_url_https': 'https://pbs.twimg.com/media/EdhM4b0XsAACrYl.png', 'url': 'https://t.co/c8RwMrjtEP', 'display_url': 'pic.twitter.com/c8RwMrjtEP', 'expanded_url': 'https://twitter.com/RakutenJP/status/1285862230630817793/photo/1', 'type': 'photo', 'sizes': {'large': {'w': 800, 'h': 418, 'resize': 'fit'}, 'small': {'w': 680, 'h': 355, 'resize': 'fit'}, 'medium': {'w': 800, 'h': 418, 'resize': 'fit'}, 'thumb': {'w': 150, 'h': 150, 'resize': 'crop'}}}]}, 'extended_entities': {'media': [{'id': 1285862226038075392, 'id_str': '1285862226038075392', 'indices': [109, 132], 'media_url': 'http://pbs.twimg.com/media/EdhM4b0XsAACrYl.png', 'media_url_https': 'https://pbs.twimg.com/media/EdhM4b0XsAACrYl.png', 'url': 'https://t.co/c8RwMrjtEP', 'display_url': 'pic.twitter.com/c8RwMrjtEP', 'expanded_url': 'https://twitter.com/RakutenJP/status/1285862230630817793/photo/1', 'type': 'photo', 'sizes': {'large': {'w': 800, 'h': 418, 'resize': 'fit'}, 'small': {'w': 680, 'h': 355, 'resize': 'fit'}, 'medium': {'w': 800, 'h': 418, 'resize': 'fit'}, 'thumb': {'w': 150, 'h': 150, 'resize': 'crop'}}}]}, 'source': '<a href=\"http://www.salesforce.com\" rel=\"nofollow\">Salesforce - Social Studio</a>', 'in_reply_to_status_id': None, 'in_reply_to_status_id_str': None, 'in_reply_to_user_id': None, 'in_reply_to_user_id_str': None, 'in_reply_to_screen_name': None, 'geo': None, 'coordinates': None, 'place': None, 'contributors': None, 'is_quote_status': False, 'retweet_count': 19, 'favorite_count': 67, 'favorited': False, 'retweeted': False, 'possibly_sensitive': False, 'lang': 'ja'}, created_at=datetime.datetime(2020, 7, 22, 9, 0, 20), id=1285862230630817793, id_str='1285862230630817793', text='＼今すぐチャレンジ！✊✨／ \\n1日1回チャレンジできるジャンケンに勝利してポイントゲット！\\n貯めたポイントは街でのお買い物や楽天グループで使える🍀 \\nいますぐエントリー▶https://t.co/RURMNgiwwx https://t.co/c8RwMrjtEP', truncated=False, entities={'hashtags': [], 'symbols': [], 'user_mentions': [], 'urls': [{'url': 'https://t.co/RURMNgiwwx', 'expanded_url': 'https://r10.to/hlfdEB', 'display_url': 'r10.to/hlfdEB', 'indices': [85, 108]}], 'media': [{'id': 1285862226038075392, 'id_str': '1285862226038075392', 'indices': [109, 132], 'media_url': 'http://pbs.twimg.com/media/EdhM4b0XsAACrYl.png', 'media_url_https': 'https://pbs.twimg.com/media/EdhM4b0XsAACrYl.png', 'url': 'https://t.co/c8RwMrjtEP', 'display_url': 'pic.twitter.com/c8RwMrjtEP', 'expanded_url': 'https://twitter.com/RakutenJP/status/1285862230630817793/photo/1', 'type': 'photo', 'sizes': {'large': {'w': 800, 'h': 418, 'resize': 'fit'}, 'small': {'w': 680, 'h': 355, 'resize': 'fit'}, 'medium': {'w': 800, 'h': 418, 'resize': 'fit'}, 'thumb': {'w': 150, 'h': 150, 'resize': 'crop'}}}]}, extended_entities={'media': [{'id': 1285862226038075392, 'id_str': '1285862226038075392', 'indices': [109, 132], 'media_url': 'http://pbs.twimg.com/media/EdhM4b0XsAACrYl.png', 'media_url_https': 'https://pbs.twimg.com/media/EdhM4b0XsAACrYl.png', 'url': 'https://t.co/c8RwMrjtEP', 'display_url': 'pic.twitter.com/c8RwMrjtEP', 'expanded_url': 'https://twitter.com/RakutenJP/status/1285862230630817793/photo/1', 'type': 'photo', 'sizes': {'large': {'w': 800, 'h': 418, 'resize': 'fit'}, 'small': {'w': 680, 'h': 355, 'resize': 'fit'}, 'medium': {'w': 800, 'h': 418, 'resize': 'fit'}, 'thumb': {'w': 150, 'h': 150, 'resize': 'crop'}}}]}, source='Salesforce - Social Studio', source_url='http://www.salesforce.com', in_reply_to_status_id=None, in_reply_to_status_id_str=None, in_reply_to_user_id=None, in_reply_to_user_id_str=None, in_reply_to_screen_name=None, geo=None, coordinates=None, place=None, contributors=None, is_quote_status=False, retweet_count=19, favorite_count=67, favorited=False, retweeted=False, possibly_sensitive=False, lang='ja'), contributors_enabled=False, is_translator=False, is_translation_enabled=False, profile_background_color='000000', profile_background_image_url='http://abs.twimg.com/images/themes/theme1/bg.png', profile_background_image_url_https='https://abs.twimg.com/images/themes/theme1/bg.png', profile_background_tile=False, profile_image_url='http://pbs.twimg.com/profile_images/1046580603078864896/siehi3PY_normal.jpg', profile_image_url_https='https://pbs.twimg.com/profile_images/1046580603078864896/siehi3PY_normal.jpg', profile_banner_url='https://pbs.twimg.com/profile_banners/130671401/1554971341', profile_link_color='BF0000', profile_sidebar_border_color='000000', profile_sidebar_fill_color='000000', profile_text_color='000000', profile_use_background_image=False, has_extended_profile=False, default_profile=False, default_profile_image=False, following=True, follow_request_sent=False, notifications=False, translator_type='regular')\n"
     ]
    }
   ],
   "source": [
    "api = Twitter().getApi()\n",
    "user=api.get_user(screen_name=\"RakutenJP\")\n",
    "print(user)"
   ]
  },
  {
   "cell_type": "code",
   "execution_count": 6,
   "metadata": {},
   "outputs": [
    {
     "data": {
      "text/plain": [
       "1157199"
      ]
     },
     "execution_count": 6,
     "metadata": {},
     "output_type": "execute_result"
    }
   ],
   "source": [
    "user.followers_count"
   ]
  },
  {
   "cell_type": "code",
   "execution_count": 4,
   "metadata": {},
   "outputs": [],
   "source": [
    "followerList=[]\n",
    "cursor = -1\n",
    "cnt=0\n",
    "while cursor != 0:\n",
    "    api = Twitter().getApi()\n",
    "    itr = tweepy.Cursor(api.friends_ids, id='@9EI6dPAqSwEn5Wj', cursor=cursor).pages()\n",
    "    \n",
    "    try:\n",
    "        for friends_ids in itr.next():\n",
    "            if cnt>100:\n",
    "                break            \n",
    "            try:\n",
    "                user = api.get_user(friends_ids)\n",
    "                user_info = [user.screen_name]\n",
    "                if user.followers_count<user.friends_count:\n",
    "                    followerList.append(user_info)\n",
    "                    cnt=cnt+1\n",
    "            except tweepy.error.TweepError as e:\n",
    "                print(e.reason)\n",
    "    except ConnectionError as e:\n",
    "        print(e.reason)\n",
    "    cursor = itr.next_cursor"
   ]
  },
  {
   "cell_type": "code",
   "execution_count": 28,
   "metadata": {},
   "outputs": [],
   "source": [
    "with open('followCandidate.txt', 'w') as f:\n",
    "    for user in followerList:\n",
    "        f.write(\"%s\\n\" % user[0])\n",
    "        \n",
    "f.close()"
   ]
  },
  {
   "cell_type": "code",
   "execution_count": 41,
   "metadata": {},
   "outputs": [
    {
     "name": "stdout",
     "output_type": "stream",
     "text": [
      "<class 'list'>\n",
      "['t\\n', 'A\\n', 'n\\n', 'n\\n', 'p\\n', 'k\\n', 'm\\n', 'm\\n', 'e\\n', 'd\\n', 'I\\n', 'd\\n', 'k\\n', 'k\\n', 'E\\n', 'a\\n', 'p\\n', 'b\\n', 's\\n', 's\\n', '2\\n', 'f\\n', '2\\n', 'm\\n', 's\\n', 'A\\n', 'c\\n', 'm\\n', 'b\\n', 'm\\n', 'b\\n', 'n\\n', 'h\\n', 'a\\n', 'N\\n', '1\\n', 'k\\n', 'k\\n', 'h\\n', 'h\\n', '2\\n', 'L\\n', 'l\\n', 'W\\n', 'm\\n', 't\\n', 'y\\n', 'c\\n', 'k\\n', 'm\\n', 'm\\n', 's\\n', 'S\\n', 'g\\n', 'p\\n', 'y\\n', 's\\n', 'k\\n', 'a\\n', '5\\n', 'T\\n', 'k\\n', 'D\\n', 's\\n', 's\\n', 'n\\n', 'n\\n', 'o\\n', 'o\\n', 'i\\n', 'a\\n', 'i\\n', 'a\\n', 't\\n', '1\\n', 'w\\n', 't\\n', 'u\\n', 'T\\n', '7\\n', 'M\\n', 'F\\n', 't\\n', 'h\\n', 'o\\n', '4\\n', 'p\\n', 's\\n', 'l\\n', 's\\n', 'N\\n', 'J\\n', 'V\\n', 'f\\n', '0\\n', 'm\\n', 'n\\n', 'f\\n', 'r\\n', 'e\\n']\n"
     ]
    }
   ],
   "source": [
    "with open('followCandidate.txt') as f:\n",
    "    l = f.readlines()\n",
    "    print(type(l))\n",
    "    print(l)\n",
    "f.close()"
   ]
  },
  {
   "cell_type": "code",
   "execution_count": 33,
   "metadata": {},
   "outputs": [],
   "source": [
    "import re\n",
    "\n",
    "followList=[]\n",
    "for user in l:\n",
    "    match = re.search(r'[a-zA-Z0-9]*', user)\n",
    "    followList.append(match.group(0))\n",
    "\n"
   ]
  },
  {
   "cell_type": "code",
   "execution_count": 34,
   "metadata": {},
   "outputs": [
    {
     "name": "stdout",
     "output_type": "stream",
     "text": [
      "['shzka', 'teramoto', 'AtelierTomioka', 'ninkisougo', 'nagasakitokitu', 'purasufaibu', 'kunio8917', 'magatama5232', 'magatama5233', 'ebipilafsuki', 'drkk', 'I5Ml3', 'deai', 'kumoburo', 'ken0205060', 'EZw7f', 'akttarou', 'pandorazeroc', 'blue2love100', 'smileheart555', 'sogoUsMain', '24', 'follow', '2580info', 'mgwgpmm5', 'sosug3', 'AKA', 'cHeQedpmJzIkvcI', 'mxYxWzuspuHAwFb', 'bot', 'mentaikoyo', 'bonjour10001', 'nene8851', 'hakai', 'arcakenkou', 'NakamuraHisyou', '1universityob', 'kingtweetfollow', 'kataoka0', 'hokkaidopr1', 'hiiina742', '23kkkff', 'Leonidas', 'lFPFRnHDnPajVM7', 'WatermouseK', 'mmfka530', 'tomuneko1', 'yksssm225', 'caka312', 'kaiga', 'mikeneko101', 'mitchll', 'snappy61962159', 'SHO69783869', 'gagataro8', 'pometa325', 'yukihirototo', 'sekixyo', 'kajichan1970', 'aotimama', '5ueWRCLuyKiX2S9', 'TokitaTakayuki', 'kgn4sks1', 'DHkokoronoeiyou', 'samihara', 'standestate', 'namatya2552', 'nisaki241', 'osakaotakun', 'okusako1964', 'izumi6666', 'arita2552', 'itcordinator', 'aa', 'tamatama98', '1JmN6PD24FPEvD8', 'weiyohero4545', 'tdatgjtj', 'ukari1209', 'TEN', '76bto', 'MbKQUvBbux2b1ZS', 'FN0rir1n', 'trendInfo8', 'hiyoko', 'ovSYOo3PJLFSok4', '4up', 'pga222', 'sm', 'l0aE9DvkEIWU9x1', 'sougoymfollow', 'New', 'JTzhenlizi', 'VivaAqa', 'football', '0225Toshi', 'mainz1103', 'nicop2324', 'fefeitantan', 'rjYqCBjEPf2uUx9', 'emayunyun']\n"
     ]
    }
   ],
   "source": [
    "print(followList)"
   ]
  },
  {
   "cell_type": "code",
   "execution_count": 44,
   "metadata": {},
   "outputs": [],
   "source": [
    "for i in range(1):\n",
    "    try:\n",
    "        api.create_friendship(followList[i])\n",
    "    except:\n",
    "        print('followed')\n",
    "    followList.pop(i)\n",
    "with open('followCandidate.txt', 'w') as f:\n",
    "    for user in followList:\n",
    "        f.write(\"%s\\n\" % user)\n",
    "        \n",
    "f.close()"
   ]
  },
  {
   "cell_type": "code",
   "execution_count": null,
   "metadata": {},
   "outputs": [],
   "source": []
  }
 ],
 "metadata": {
  "kernelspec": {
   "display_name": "Python 3",
   "language": "python",
   "name": "python3"
  },
  "language_info": {
   "codemirror_mode": {
    "name": "ipython",
    "version": 3
   },
   "file_extension": ".py",
   "mimetype": "text/x-python",
   "name": "python",
   "nbconvert_exporter": "python",
   "pygments_lexer": "ipython3",
   "version": "3.7.6"
  },
  "varInspector": {
   "cols": {
    "lenName": 16,
    "lenType": 16,
    "lenVar": 40
   },
   "kernels_config": {
    "python": {
     "delete_cmd_postfix": "",
     "delete_cmd_prefix": "del ",
     "library": "var_list.py",
     "varRefreshCmd": "print(var_dic_list())"
    },
    "r": {
     "delete_cmd_postfix": ") ",
     "delete_cmd_prefix": "rm(",
     "library": "var_list.r",
     "varRefreshCmd": "cat(var_dic_list()) "
    }
   },
   "oldHeight": 122.72736400000001,
   "position": {
    "height": "144.716px",
    "left": "602.727px",
    "right": "20px",
    "top": "120px",
    "width": "250px"
   },
   "types_to_exclude": [
    "module",
    "function",
    "builtin_function_or_method",
    "instance",
    "_Feature"
   ],
   "varInspector_section_display": "block",
   "window_display": true
  }
 },
 "nbformat": 4,
 "nbformat_minor": 4
}
