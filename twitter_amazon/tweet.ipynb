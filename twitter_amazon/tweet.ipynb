{
 "cells": [
  {
   "cell_type": "code",
   "execution_count": 2,
   "metadata": {
    "scrolled": true
   },
   "outputs": [],
   "source": [
    "import tweepy\n",
    "import const\n",
    "\n",
    "class Twitter:\n",
    "    def __init__(self):\n",
    "        self.CK=const.CK\n",
    "        self.CS=const.CS\n",
    "        self.AT=const.AT\n",
    "        self.AS=const.AS\n",
    "\n",
    "    def getApi(self):\n",
    "        # Twitterオブジェクトの生成\n",
    "        auth = tweepy.OAuthHandler(self.CK, self.CS)\n",
    "        auth.set_access_token(self.AT, self.AS)\n",
    "        api=tweepy.API(auth)\n",
    "        return api\n",
    "\n",
    "\n"
   ]
  },
  {
   "cell_type": "code",
   "execution_count": 30,
   "metadata": {},
   "outputs": [],
   "source": [
    "import random\n",
    "def getUrl():\n",
    "    path='affiUrl.txt'\n",
    "    with open(path,'r') as f:\n",
    "        urlList = f.readlines()\n",
    "        f.close()\n",
    "    print(urlList)\n",
    "    size=len(urlList)\n",
    "    delFig=random.randint(0,size-1)\n",
    "    url=urlList[delFig]\n",
    "    urlList.pop(delFig)\n",
    "    \n",
    "    with open(path, 'w') as f:\n",
    "        for url in urlList:\n",
    "            f.write(\"%s\" % url)\n",
    "            \n",
    "    url.replace('\\n','')\n",
    "    return str(url)\n"
   ]
  },
  {
   "cell_type": "code",
   "execution_count": 4,
   "metadata": {},
   "outputs": [
    {
     "data": {
      "text/plain": [
       "Status(_api=<tweepy.api.API object at 0x00000268D6B56C08>, _json={'created_at': 'Sun Aug 02 11:30:51 +0000 2020', 'id': 1289886375416696833, 'id_str': '1289886375416696833', 'text': '今日も一日お疲れ様でした！\\n Yeah!', 'truncated': False, 'entities': {'hashtags': [], 'symbols': [], 'user_mentions': [], 'urls': []}, 'source': '<a href=\"https://amazon.com\" rel=\"nofollow\">amazon_bot_orenomono</a>', 'in_reply_to_status_id': None, 'in_reply_to_status_id_str': None, 'in_reply_to_user_id': None, 'in_reply_to_user_id_str': None, 'in_reply_to_screen_name': None, 'user': {'id': 1274588386267824128, 'id_str': '1274588386267824128', 'name': '楽天 セール&売れ筋情報局', 'screen_name': 'test_amazon_bot', 'location': '', 'description': '楽天商品の売れ筋商品やタイムセール商品をお知らせします。楽しく買い物をしましょう！ #楽天 #rakuten', 'url': None, 'entities': {'description': {'urls': []}}, 'protected': False, 'followers_count': 23, 'friends_count': 419, 'listed_count': 0, 'created_at': 'Sun Jun 21 06:22:11 +0000 2020', 'favourites_count': 0, 'utc_offset': None, 'time_zone': None, 'geo_enabled': False, 'verified': False, 'statuses_count': 68, 'lang': None, 'contributors_enabled': False, 'is_translator': False, 'is_translation_enabled': False, 'profile_background_color': 'F5F8FA', 'profile_background_image_url': None, 'profile_background_image_url_https': None, 'profile_background_tile': False, 'profile_image_url': 'http://pbs.twimg.com/profile_images/1287285715005403136/Ifauh4PB_normal.png', 'profile_image_url_https': 'https://pbs.twimg.com/profile_images/1287285715005403136/Ifauh4PB_normal.png', 'profile_link_color': '1DA1F2', 'profile_sidebar_border_color': 'C0DEED', 'profile_sidebar_fill_color': 'DDEEF6', 'profile_text_color': '333333', 'profile_use_background_image': True, 'has_extended_profile': False, 'default_profile': True, 'default_profile_image': False, 'following': False, 'follow_request_sent': False, 'notifications': False, 'translator_type': 'none'}, 'geo': None, 'coordinates': None, 'place': None, 'contributors': None, 'is_quote_status': False, 'retweet_count': 0, 'favorite_count': 0, 'favorited': False, 'retweeted': False, 'lang': 'ja'}, created_at=datetime.datetime(2020, 8, 2, 11, 30, 51), id=1289886375416696833, id_str='1289886375416696833', text='今日も一日お疲れ様でした！\\n Yeah!', truncated=False, entities={'hashtags': [], 'symbols': [], 'user_mentions': [], 'urls': []}, source='amazon_bot_orenomono', source_url='https://amazon.com', in_reply_to_status_id=None, in_reply_to_status_id_str=None, in_reply_to_user_id=None, in_reply_to_user_id_str=None, in_reply_to_screen_name=None, author=User(_api=<tweepy.api.API object at 0x00000268D6B56C08>, _json={'id': 1274588386267824128, 'id_str': '1274588386267824128', 'name': '楽天 セール&売れ筋情報局', 'screen_name': 'test_amazon_bot', 'location': '', 'description': '楽天商品の売れ筋商品やタイムセール商品をお知らせします。楽しく買い物をしましょう！ #楽天 #rakuten', 'url': None, 'entities': {'description': {'urls': []}}, 'protected': False, 'followers_count': 23, 'friends_count': 419, 'listed_count': 0, 'created_at': 'Sun Jun 21 06:22:11 +0000 2020', 'favourites_count': 0, 'utc_offset': None, 'time_zone': None, 'geo_enabled': False, 'verified': False, 'statuses_count': 68, 'lang': None, 'contributors_enabled': False, 'is_translator': False, 'is_translation_enabled': False, 'profile_background_color': 'F5F8FA', 'profile_background_image_url': None, 'profile_background_image_url_https': None, 'profile_background_tile': False, 'profile_image_url': 'http://pbs.twimg.com/profile_images/1287285715005403136/Ifauh4PB_normal.png', 'profile_image_url_https': 'https://pbs.twimg.com/profile_images/1287285715005403136/Ifauh4PB_normal.png', 'profile_link_color': '1DA1F2', 'profile_sidebar_border_color': 'C0DEED', 'profile_sidebar_fill_color': 'DDEEF6', 'profile_text_color': '333333', 'profile_use_background_image': True, 'has_extended_profile': False, 'default_profile': True, 'default_profile_image': False, 'following': False, 'follow_request_sent': False, 'notifications': False, 'translator_type': 'none'}, id=1274588386267824128, id_str='1274588386267824128', name='楽天 セール&売れ筋情報局', screen_name='test_amazon_bot', location='', description='楽天商品の売れ筋商品やタイムセール商品をお知らせします。楽しく買い物をしましょう！ #楽天 #rakuten', url=None, entities={'description': {'urls': []}}, protected=False, followers_count=23, friends_count=419, listed_count=0, created_at=datetime.datetime(2020, 6, 21, 6, 22, 11), favourites_count=0, utc_offset=None, time_zone=None, geo_enabled=False, verified=False, statuses_count=68, lang=None, contributors_enabled=False, is_translator=False, is_translation_enabled=False, profile_background_color='F5F8FA', profile_background_image_url=None, profile_background_image_url_https=None, profile_background_tile=False, profile_image_url='http://pbs.twimg.com/profile_images/1287285715005403136/Ifauh4PB_normal.png', profile_image_url_https='https://pbs.twimg.com/profile_images/1287285715005403136/Ifauh4PB_normal.png', profile_link_color='1DA1F2', profile_sidebar_border_color='C0DEED', profile_sidebar_fill_color='DDEEF6', profile_text_color='333333', profile_use_background_image=True, has_extended_profile=False, default_profile=True, default_profile_image=False, following=False, follow_request_sent=False, notifications=False, translator_type='none'), user=User(_api=<tweepy.api.API object at 0x00000268D6B56C08>, _json={'id': 1274588386267824128, 'id_str': '1274588386267824128', 'name': '楽天 セール&売れ筋情報局', 'screen_name': 'test_amazon_bot', 'location': '', 'description': '楽天商品の売れ筋商品やタイムセール商品をお知らせします。楽しく買い物をしましょう！ #楽天 #rakuten', 'url': None, 'entities': {'description': {'urls': []}}, 'protected': False, 'followers_count': 23, 'friends_count': 419, 'listed_count': 0, 'created_at': 'Sun Jun 21 06:22:11 +0000 2020', 'favourites_count': 0, 'utc_offset': None, 'time_zone': None, 'geo_enabled': False, 'verified': False, 'statuses_count': 68, 'lang': None, 'contributors_enabled': False, 'is_translator': False, 'is_translation_enabled': False, 'profile_background_color': 'F5F8FA', 'profile_background_image_url': None, 'profile_background_image_url_https': None, 'profile_background_tile': False, 'profile_image_url': 'http://pbs.twimg.com/profile_images/1287285715005403136/Ifauh4PB_normal.png', 'profile_image_url_https': 'https://pbs.twimg.com/profile_images/1287285715005403136/Ifauh4PB_normal.png', 'profile_link_color': '1DA1F2', 'profile_sidebar_border_color': 'C0DEED', 'profile_sidebar_fill_color': 'DDEEF6', 'profile_text_color': '333333', 'profile_use_background_image': True, 'has_extended_profile': False, 'default_profile': True, 'default_profile_image': False, 'following': False, 'follow_request_sent': False, 'notifications': False, 'translator_type': 'none'}, id=1274588386267824128, id_str='1274588386267824128', name='楽天 セール&売れ筋情報局', screen_name='test_amazon_bot', location='', description='楽天商品の売れ筋商品やタイムセール商品をお知らせします。楽しく買い物をしましょう！ #楽天 #rakuten', url=None, entities={'description': {'urls': []}}, protected=False, followers_count=23, friends_count=419, listed_count=0, created_at=datetime.datetime(2020, 6, 21, 6, 22, 11), favourites_count=0, utc_offset=None, time_zone=None, geo_enabled=False, verified=False, statuses_count=68, lang=None, contributors_enabled=False, is_translator=False, is_translation_enabled=False, profile_background_color='F5F8FA', profile_background_image_url=None, profile_background_image_url_https=None, profile_background_tile=False, profile_image_url='http://pbs.twimg.com/profile_images/1287285715005403136/Ifauh4PB_normal.png', profile_image_url_https='https://pbs.twimg.com/profile_images/1287285715005403136/Ifauh4PB_normal.png', profile_link_color='1DA1F2', profile_sidebar_border_color='C0DEED', profile_sidebar_fill_color='DDEEF6', profile_text_color='333333', profile_use_background_image=True, has_extended_profile=False, default_profile=True, default_profile_image=False, following=False, follow_request_sent=False, notifications=False, translator_type='none'), geo=None, coordinates=None, place=None, contributors=None, is_quote_status=False, retweet_count=0, favorite_count=0, favorited=False, retweeted=False, lang='ja')"
      ]
     },
     "execution_count": 4,
     "metadata": {},
     "output_type": "execute_result"
    }
   ],
   "source": [
    "#url=getUrl()\n",
    "#print(url)\n",
    "api=Twitter().getApi()\n",
    "#api.update_status(url)\n",
    "\n",
    "api.update_status(\"今日も一日お疲れ様でした！\\n Yeah!\")"
   ]
  },
  {
   "cell_type": "code",
   "execution_count": null,
   "metadata": {},
   "outputs": [],
   "source": []
  },
  {
   "cell_type": "code",
   "execution_count": null,
   "metadata": {},
   "outputs": [],
   "source": []
  }
 ],
 "metadata": {
  "kernelspec": {
   "display_name": "Python 3",
   "language": "python",
   "name": "python3"
  },
  "language_info": {
   "codemirror_mode": {
    "name": "ipython",
    "version": 3
   },
   "file_extension": ".py",
   "mimetype": "text/x-python",
   "name": "python",
   "nbconvert_exporter": "python",
   "pygments_lexer": "ipython3",
   "version": "3.7.6"
  },
  "varInspector": {
   "cols": {
    "lenName": 16,
    "lenType": 16,
    "lenVar": 40
   },
   "kernels_config": {
    "python": {
     "delete_cmd_postfix": "",
     "delete_cmd_prefix": "del ",
     "library": "var_list.py",
     "varRefreshCmd": "print(var_dic_list())"
    },
    "r": {
     "delete_cmd_postfix": ") ",
     "delete_cmd_prefix": "rm(",
     "library": "var_list.r",
     "varRefreshCmd": "cat(var_dic_list()) "
    }
   },
   "oldHeight": 306.733364,
   "position": {
    "height": "40px",
    "left": "559.676px",
    "right": "20px",
    "top": "627.946px",
    "width": "350px"
   },
   "types_to_exclude": [
    "module",
    "function",
    "builtin_function_or_method",
    "instance",
    "_Feature"
   ],
   "varInspector_section_display": "none",
   "window_display": true
  }
 },
 "nbformat": 4,
 "nbformat_minor": 4
}
